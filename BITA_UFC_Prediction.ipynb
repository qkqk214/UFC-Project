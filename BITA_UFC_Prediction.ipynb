{
 "cells": [
  {
   "cell_type": "markdown",
   "metadata": {},
   "source": [
    "# UFC 승리예측"
   ]
  },
  {
   "cell_type": "markdown",
   "metadata": {},
   "source": [
    "#### 모듈 불러오기"
   ]
  },
  {
   "cell_type": "code",
   "execution_count": 1,
   "metadata": {},
   "outputs": [],
   "source": [
    "import pandas as pd\n",
    "import numpy as np\n",
    "import seaborn as sns\n",
    "import matplotlib.pyplot as plt\n",
    "%matplotlib inline"
   ]
  },
  {
   "cell_type": "markdown",
   "metadata": {},
   "source": [
    "#### 동시 출력 가능"
   ]
  },
  {
   "cell_type": "code",
   "execution_count": 2,
   "metadata": {},
   "outputs": [],
   "source": [
    "from IPython.core.interactiveshell import InteractiveShell\n",
    "InteractiveShell.ast_node_interactivity = \"all\""
   ]
  },
  {
   "cell_type": "markdown",
   "metadata": {},
   "source": [
    "#### 경고 메시지 제거"
   ]
  },
  {
   "cell_type": "code",
   "execution_count": 3,
   "metadata": {},
   "outputs": [],
   "source": [
    "import warnings\n",
    "warnings.filterwarnings(action=\"ignore\")"
   ]
  },
  {
   "cell_type": "markdown",
   "metadata": {},
   "source": [
    "#### 데이터 불러오기"
   ]
  },
  {
   "cell_type": "code",
   "execution_count": 4,
   "metadata": {},
   "outputs": [],
   "source": [
    "data = pd.read_csv(\"data.csv\")\n",
    "blue = pd.read_csv(\"blue.csv\")\n",
    "red = pd.read_csv(\"red.csv\")\n",
    "player = pd.read_csv(\"player.csv\")"
   ]
  },
  {
   "cell_type": "markdown",
   "metadata": {},
   "source": [
    "#### player 데이터는 원 data에 R,B선수들을 밑으로 붙인것\n",
    "#### 시계열 데이터분석에 한계를 갖고, 동일한 선수여도 시기가 다르면 다른 선수로 인식\n",
    "#### 선수들의 성향을 클러스터링하기 위해 레드 블루를 쪼개어 rbind함."
   ]
  },
  {
   "cell_type": "markdown",
   "metadata": {},
   "source": [
    "#### 결측치 확인"
   ]
  },
  {
   "cell_type": "code",
   "execution_count": 5,
   "metadata": {
    "scrolled": false
   },
   "outputs": [
    {
     "data": {
      "text/plain": [
       "<matplotlib.axes._subplots.AxesSubplot at 0x1b71e838848>"
      ]
     },
     "execution_count": 5,
     "metadata": {},
     "output_type": "execute_result"
    },
    {
     "data": {
      "image/png": "[encoded data removed]",
      "text/plain": [
       "<Figure size 432x288 with 1 Axes>"
      ]
     },
     "metadata": {
      "needs_background": "light"
     },
     "output_type": "display_data"
    }
   ],
   "source": [
    "sns.countplot(data.isnull().sum(),data=data)"
   ]
  },
  {
   "cell_type": "markdown",
   "metadata": {},
   "source": [
    "#### 결측치는 분석 상 비약을 초래할 것이라 판단하에 제거"
   ]
  },
  {
   "cell_type": "markdown",
   "metadata": {},
   "source": [
    "#### UFC 특성상 체급별로 평균 혹은 중앙값을 채운 후 모델을 돌린다면 같은 스탯끼리 매치가 성사되어 드로우가 발생\n",
    "#### 또한 0,1로 분류 시에도 부정확한 결괏값이라고 판단되기에 제거하였다."
   ]
  },
  {
   "cell_type": "code",
   "execution_count": 6,
   "metadata": {},
   "outputs": [
    {
     "data": {
      "text/html": [
       "<div>\n",
       "<style scoped>\n",
       "    .dataframe tbody tr th:only-of-type {\n",
       "        vertical-align: middle;\n",
       "    }\n",
       "\n",
       "    .dataframe tbody tr th {\n",
       "        vertical-align: top;\n",
       "    }\n",
       "\n",
       "    .dataframe thead th {\n",
       "        text-align: right;\n",
       "    }\n",
       "</style>\n",
       "<table border=\"1\" class=\"dataframe\">\n",
       "  <thead>\n",
       "    <tr style=\"text-align: right;\">\n",
       "      <th></th>\n",
       "      <th>R_fighter</th>\n",
       "      <th>B_fighter</th>\n",
       "      <th>Referee</th>\n",
       "      <th>date</th>\n",
       "      <th>location</th>\n",
       "      <th>Winner</th>\n",
       "      <th>title_bout</th>\n",
       "      <th>weight_class</th>\n",
       "      <th>no_of_rounds</th>\n",
       "      <th>B_current_lose_streak</th>\n",
       "      <th>...</th>\n",
       "      <th>R_win_by_KO/TKO</th>\n",
       "      <th>R_win_by_Submission</th>\n",
       "      <th>R_win_by_TKO_Doctor_Stoppage</th>\n",
       "      <th>R_wins</th>\n",
       "      <th>R_Stance</th>\n",
       "      <th>R_Height_cms</th>\n",
       "      <th>R_Reach_cms</th>\n",
       "      <th>R_Weight_lbs</th>\n",
       "      <th>B_age</th>\n",
       "      <th>R_age</th>\n",
       "    </tr>\n",
       "  </thead>\n",
       "  <tbody>\n",
       "    <tr>\n",
       "      <td>0</td>\n",
       "      <td>Henry Cejudo</td>\n",
       "      <td>Marlon Moraes</td>\n",
       "      <td>Marc Goddard</td>\n",
       "      <td>2019-06-08</td>\n",
       "      <td>Chicago, Illinois, USA</td>\n",
       "      <td>Red</td>\n",
       "      <td>True</td>\n",
       "      <td>Bantamweight</td>\n",
       "      <td>5</td>\n",
       "      <td>0</td>\n",
       "      <td>...</td>\n",
       "      <td>2</td>\n",
       "      <td>0</td>\n",
       "      <td>0</td>\n",
       "      <td>8</td>\n",
       "      <td>Orthodox</td>\n",
       "      <td>162.56</td>\n",
       "      <td>162.56</td>\n",
       "      <td>135.0</td>\n",
       "      <td>31.0</td>\n",
       "      <td>32.0</td>\n",
       "    </tr>\n",
       "    <tr>\n",
       "      <td>1</td>\n",
       "      <td>Valentina Shevchenko</td>\n",
       "      <td>Jessica Eye</td>\n",
       "      <td>Robert Madrigal</td>\n",
       "      <td>2019-06-08</td>\n",
       "      <td>Chicago, Illinois, USA</td>\n",
       "      <td>Red</td>\n",
       "      <td>True</td>\n",
       "      <td>Women's Flyweight</td>\n",
       "      <td>5</td>\n",
       "      <td>0</td>\n",
       "      <td>...</td>\n",
       "      <td>0</td>\n",
       "      <td>2</td>\n",
       "      <td>0</td>\n",
       "      <td>5</td>\n",
       "      <td>Southpaw</td>\n",
       "      <td>165.10</td>\n",
       "      <td>167.64</td>\n",
       "      <td>125.0</td>\n",
       "      <td>32.0</td>\n",
       "      <td>31.0</td>\n",
       "    </tr>\n",
       "    <tr>\n",
       "      <td>2</td>\n",
       "      <td>Tony Ferguson</td>\n",
       "      <td>Donald Cerrone</td>\n",
       "      <td>Dan Miragliotta</td>\n",
       "      <td>2019-06-08</td>\n",
       "      <td>Chicago, Illinois, USA</td>\n",
       "      <td>Red</td>\n",
       "      <td>False</td>\n",
       "      <td>Lightweight</td>\n",
       "      <td>3</td>\n",
       "      <td>0</td>\n",
       "      <td>...</td>\n",
       "      <td>3</td>\n",
       "      <td>6</td>\n",
       "      <td>1</td>\n",
       "      <td>14</td>\n",
       "      <td>Orthodox</td>\n",
       "      <td>180.34</td>\n",
       "      <td>193.04</td>\n",
       "      <td>155.0</td>\n",
       "      <td>36.0</td>\n",
       "      <td>35.0</td>\n",
       "    </tr>\n",
       "    <tr>\n",
       "      <td>3</td>\n",
       "      <td>Jimmie Rivera</td>\n",
       "      <td>Petr Yan</td>\n",
       "      <td>Kevin MacDonald</td>\n",
       "      <td>2019-06-08</td>\n",
       "      <td>Chicago, Illinois, USA</td>\n",
       "      <td>Blue</td>\n",
       "      <td>False</td>\n",
       "      <td>Bantamweight</td>\n",
       "      <td>3</td>\n",
       "      <td>0</td>\n",
       "      <td>...</td>\n",
       "      <td>1</td>\n",
       "      <td>0</td>\n",
       "      <td>0</td>\n",
       "      <td>6</td>\n",
       "      <td>Orthodox</td>\n",
       "      <td>162.56</td>\n",
       "      <td>172.72</td>\n",
       "      <td>135.0</td>\n",
       "      <td>26.0</td>\n",
       "      <td>29.0</td>\n",
       "    </tr>\n",
       "    <tr>\n",
       "      <td>4</td>\n",
       "      <td>Tai Tuivasa</td>\n",
       "      <td>Blagoy Ivanov</td>\n",
       "      <td>Dan Miragliotta</td>\n",
       "      <td>2019-06-08</td>\n",
       "      <td>Chicago, Illinois, USA</td>\n",
       "      <td>Blue</td>\n",
       "      <td>False</td>\n",
       "      <td>Heavyweight</td>\n",
       "      <td>3</td>\n",
       "      <td>0</td>\n",
       "      <td>...</td>\n",
       "      <td>2</td>\n",
       "      <td>0</td>\n",
       "      <td>0</td>\n",
       "      <td>3</td>\n",
       "      <td>Southpaw</td>\n",
       "      <td>187.96</td>\n",
       "      <td>190.50</td>\n",
       "      <td>264.0</td>\n",
       "      <td>32.0</td>\n",
       "      <td>26.0</td>\n",
       "    </tr>\n",
       "  </tbody>\n",
       "</table>\n",
       "<p>5 rows × 145 columns</p>\n",
       "</div>"
      ],
      "text/plain": [
       "              R_fighter       B_fighter          Referee        date  \\\n",
       "0          Henry Cejudo   Marlon Moraes     Marc Goddard  2019-06-08   \n",
       "1  Valentina Shevchenko     Jessica Eye  Robert Madrigal  2019-06-08   \n",
       "2         Tony Ferguson  Donald Cerrone  Dan Miragliotta  2019-06-08   \n",
       "3         Jimmie Rivera        Petr Yan  Kevin MacDonald  2019-06-08   \n",
       "4           Tai Tuivasa   Blagoy Ivanov  Dan Miragliotta  2019-06-08   \n",
       "\n",
       "                 location Winner  title_bout       weight_class  no_of_rounds  \\\n",
       "0  Chicago, Illinois, USA    Red        True       Bantamweight             5   \n",
       "1  Chicago, Illinois, USA    Red        True  Women's Flyweight             5   \n",
       "2  Chicago, Illinois, USA    Red       False        Lightweight             3   \n",
       "3  Chicago, Illinois, USA   Blue       False       Bantamweight             3   \n",
       "4  Chicago, Illinois, USA   Blue       False        Heavyweight             3   \n",
       "\n",
       "   B_current_lose_streak  ...  R_win_by_KO/TKO  R_win_by_Submission  \\\n",
       "0                      0  ...                2                    0   \n",
       "1                      0  ...                0                    2   \n",
       "2                      0  ...                3                    6   \n",
       "3                      0  ...                1                    0   \n",
       "4                      0  ...                2                    0   \n",
       "\n",
       "   R_win_by_TKO_Doctor_Stoppage  R_wins  R_Stance  R_Height_cms  R_Reach_cms  \\\n",
       "0                             0       8  Orthodox        162.56       162.56   \n",
       "1                             0       5  Southpaw        165.10       167.64   \n",
       "2                             1      14  Orthodox        180.34       193.04   \n",
       "3                             0       6  Orthodox        162.56       172.72   \n",
       "4                             0       3  Southpaw        187.96       190.50   \n",
       "\n",
       "   R_Weight_lbs  B_age  R_age  \n",
       "0         135.0   31.0   32.0  \n",
       "1         125.0   32.0   31.0  \n",
       "2         155.0   36.0   35.0  \n",
       "3         135.0   26.0   29.0  \n",
       "4         264.0   32.0   26.0  \n",
       "\n",
       "[5 rows x 145 columns]"
      ]
     },
     "execution_count": 6,
     "metadata": {},
     "output_type": "execute_result"
    }
   ],
   "source": [
    "data = data.dropna()\n",
    "data.head()"
   ]
  },
  {
   "cell_type": "markdown",
   "metadata": {},
   "source": [
    "### Explore The number of Title match"
   ]
  },
  {
   "cell_type": "code",
   "execution_count": 7,
   "metadata": {},
   "outputs": [
    {
     "data": {
      "text/plain": [
       "Lightweight              644\n",
       "Welterweight             636\n",
       "Middleweight             474\n",
       "Light Heavyweight        340\n",
       "Featherweight            299\n",
       "Heavyweight              264\n",
       "Bantamweight             243\n",
       "Flyweight                138\n",
       "Women's Strawweight       74\n",
       "Women's Bantamweight      58\n",
       "Women's Flyweight         19\n",
       "Catch Weight               9\n",
       "Women's Featherweight      4\n",
       "Name: weight_class, dtype: int64"
      ]
     },
     "execution_count": 7,
     "metadata": {},
     "output_type": "execute_result"
    }
   ],
   "source": [
    "data[\"weight_class\"].value_counts()"
   ]
  },
  {
   "cell_type": "code",
   "execution_count": 8,
   "metadata": {},
   "outputs": [],
   "source": [
    "Red = data[\"R_fighter\"]\n",
    "Blue = data[\"B_fighter\"]"
   ]
  },
  {
   "cell_type": "code",
   "execution_count": 9,
   "metadata": {},
   "outputs": [
    {
     "data": {
      "text/plain": [
       "117"
      ]
     },
     "execution_count": 9,
     "metadata": {},
     "output_type": "execute_result"
    }
   ],
   "source": [
    "len(list(set(Red)-set(Blue)))"
   ]
  },
  {
   "cell_type": "code",
   "execution_count": 10,
   "metadata": {},
   "outputs": [
    {
     "data": {
      "text/plain": [
       "290"
      ]
     },
     "execution_count": 10,
     "metadata": {},
     "output_type": "execute_result"
    }
   ],
   "source": [
    "len(list(set(Blue)-set(Red)))"
   ]
  },
  {
   "cell_type": "code",
   "execution_count": 11,
   "metadata": {},
   "outputs": [
    {
     "data": {
      "text/plain": [
       "False    2988\n",
       "True      214\n",
       "Name: title_bout, dtype: int64"
      ]
     },
     "execution_count": 11,
     "metadata": {},
     "output_type": "execute_result"
    }
   ],
   "source": [
    "data[\"title_bout\"].value_counts()"
   ]
  },
  {
   "cell_type": "code",
   "execution_count": 12,
   "metadata": {},
   "outputs": [],
   "source": [
    "arr1 = data[data[\"title_bout\"]==1][\"weight_class\"].value_counts()\n",
    "title = pd.DataFrame(arr1)\n",
    "title.rename(columns={\"weight_class\":\"title\"},inplace=True)\n",
    "\n",
    "arr2 = data[data[\"title_bout\"]==0][\"weight_class\"].value_counts()\n",
    "untitle = pd.DataFrame(arr2)\n",
    "untitle.rename(columns={\"weight_class\":\"untitle\"},inplace=True)"
   ]
  },
  {
   "cell_type": "code",
   "execution_count": 13,
   "metadata": {},
   "outputs": [
    {
     "data": {
      "text/html": [
       "<div>\n",
       "<style scoped>\n",
       "    .dataframe tbody tr th:only-of-type {\n",
       "        vertical-align: middle;\n",
       "    }\n",
       "\n",
       "    .dataframe tbody tr th {\n",
       "        vertical-align: top;\n",
       "    }\n",
       "\n",
       "    .dataframe thead th {\n",
       "        text-align: right;\n",
       "    }\n",
       "</style>\n",
       "<table border=\"1\" class=\"dataframe\">\n",
       "  <thead>\n",
       "    <tr style=\"text-align: right;\">\n",
       "      <th></th>\n",
       "      <th>title</th>\n",
       "      <th>untitle</th>\n",
       "    </tr>\n",
       "  </thead>\n",
       "  <tbody>\n",
       "    <tr>\n",
       "      <td>Light Heavyweight</td>\n",
       "      <td>38</td>\n",
       "      <td>302</td>\n",
       "    </tr>\n",
       "    <tr>\n",
       "      <td>Welterweight</td>\n",
       "      <td>32</td>\n",
       "      <td>604</td>\n",
       "    </tr>\n",
       "    <tr>\n",
       "      <td>Heavyweight</td>\n",
       "      <td>29</td>\n",
       "      <td>235</td>\n",
       "    </tr>\n",
       "    <tr>\n",
       "      <td>Middleweight</td>\n",
       "      <td>26</td>\n",
       "      <td>448</td>\n",
       "    </tr>\n",
       "    <tr>\n",
       "      <td>Lightweight</td>\n",
       "      <td>26</td>\n",
       "      <td>618</td>\n",
       "    </tr>\n",
       "  </tbody>\n",
       "</table>\n",
       "</div>"
      ],
      "text/plain": [
       "                   title  untitle\n",
       "Light Heavyweight     38      302\n",
       "Welterweight          32      604\n",
       "Heavyweight           29      235\n",
       "Middleweight          26      448\n",
       "Lightweight           26      618"
      ]
     },
     "execution_count": 13,
     "metadata": {},
     "output_type": "execute_result"
    }
   ],
   "source": [
    "df= pd.merge(title,untitle,left_index=True,right_index=True)\n",
    "df.head()"
   ]
  },
  {
   "cell_type": "code",
   "execution_count": 14,
   "metadata": {},
   "outputs": [
    {
     "data": {
      "text/html": [
       "<div>\n",
       "<style scoped>\n",
       "    .dataframe tbody tr th:only-of-type {\n",
       "        vertical-align: middle;\n",
       "    }\n",
       "\n",
       "    .dataframe tbody tr th {\n",
       "        vertical-align: top;\n",
       "    }\n",
       "\n",
       "    .dataframe thead th {\n",
       "        text-align: right;\n",
       "    }\n",
       "</style>\n",
       "<table border=\"1\" class=\"dataframe\">\n",
       "  <thead>\n",
       "    <tr style=\"text-align: right;\">\n",
       "      <th></th>\n",
       "      <th>weight_class</th>\n",
       "      <th>title_bout</th>\n",
       "    </tr>\n",
       "  </thead>\n",
       "  <tbody>\n",
       "    <tr>\n",
       "      <td>0</td>\n",
       "      <td>Bantamweight</td>\n",
       "      <td>True</td>\n",
       "    </tr>\n",
       "    <tr>\n",
       "      <td>1</td>\n",
       "      <td>Women's Flyweight</td>\n",
       "      <td>True</td>\n",
       "    </tr>\n",
       "    <tr>\n",
       "      <td>2</td>\n",
       "      <td>Lightweight</td>\n",
       "      <td>False</td>\n",
       "    </tr>\n",
       "    <tr>\n",
       "      <td>3</td>\n",
       "      <td>Bantamweight</td>\n",
       "      <td>False</td>\n",
       "    </tr>\n",
       "    <tr>\n",
       "      <td>4</td>\n",
       "      <td>Heavyweight</td>\n",
       "      <td>False</td>\n",
       "    </tr>\n",
       "  </tbody>\n",
       "</table>\n",
       "</div>"
      ],
      "text/plain": [
       "        weight_class  title_bout\n",
       "0       Bantamweight        True\n",
       "1  Women's Flyweight        True\n",
       "2        Lightweight       False\n",
       "3       Bantamweight       False\n",
       "4        Heavyweight       False"
      ]
     },
     "execution_count": 14,
     "metadata": {},
     "output_type": "execute_result"
    }
   ],
   "source": [
    "titlematch = data[[\"weight_class\",\"title_bout\"]]\n",
    "titlematch.head()"
   ]
  },
  {
   "cell_type": "code",
   "execution_count": 15,
   "metadata": {},
   "outputs": [],
   "source": [
    "ct = pd.crosstab(titlematch.weight_class,titlematch.title_bout)"
   ]
  },
  {
   "cell_type": "markdown",
   "metadata": {},
   "source": [
    "### 체급별 타이틀 경기 수"
   ]
  },
  {
   "cell_type": "code",
   "execution_count": 16,
   "metadata": {},
   "outputs": [
    {
     "data": {
      "text/plain": [
       "<matplotlib.axes._subplots.AxesSubplot at 0x1b7203cf048>"
      ]
     },
     "execution_count": 16,
     "metadata": {},
     "output_type": "execute_result"
    },
    {
     "data": {
      "text/plain": [
       "<matplotlib.legend.Legend at 0x1b7203d2b48>"
      ]
     },
     "execution_count": 16,
     "metadata": {},
     "output_type": "execute_result"
    },
    {
     "data": {
      "image/png": "[encoded data removed]",
      "text/plain": [
       "<Figure size 432x288 with 1 Axes>"
      ]
     },
     "metadata": {
      "needs_background": "light"
     },
     "output_type": "display_data"
    }
   ],
   "source": [
    "ct.plot.bar(stacked=True)\n",
    "plt.legend(title='title_bout')\n",
    "plt.show()"
   ]
  },
  {
   "cell_type": "markdown",
   "metadata": {},
   "source": [
    "#### 유의미한 변수 선택"
   ]
  },
  {
   "cell_type": "code",
   "execution_count": 17,
   "metadata": {},
   "outputs": [],
   "source": [
    "data_X = data[['B_avg_BODY_att', 'B_avg_CLINCH_att', 'B_avg_DISTANCE_att', 'B_avg_GROUND_att', 'B_avg_HEAD_att', 'B_avg_KD', 'B_avg_LEG_att',\n",
    "       'B_avg_SIG_STR_att', 'B_avg_SUB_ATT', 'B_avg_TD_att', 'B_avg_TOTAL_STR_att', 'B_Height_cms', 'B_Reach_cms', 'B_Weight_lbs',\n",
    "              'R_avg_BODY_att', 'R_avg_CLINCH_att', 'R_avg_DISTANCE_att', 'R_avg_GROUND_att', 'R_avg_HEAD_att', 'R_avg_KD', 'R_avg_LEG_att',\n",
    "       'R_avg_SIG_STR_att', 'R_avg_SUB_ATT', 'R_avg_TD_att', 'R_avg_TOTAL_STR_att', 'R_Height_cms', 'R_Reach_cms', 'R_Weight_lbs',\n",
    "              \"weight_class\", \"title_bout\",\"B_win_by_Decision_Majority\",\"B_win_by_Decision_Split\",\"B_win_by_Decision_Unanimous\",\"B_win_by_KO/TKO\",\n",
    "\"B_win_by_Submission\",\"B_win_by_TKO_Doctor_Stoppage\",\"R_win_by_Decision_Majority\",\"R_win_by_Decision_Split\",\"R_win_by_Decision_Unanimous\",\"R_win_by_KO/TKO\",\n",
    "\"R_win_by_Submission\",\"R_win_by_TKO_Doctor_Stoppage\",\n",
    "              \"B_current_lose_streak\", \"B_current_win_streak\", \"B_wins\", \"B_Stance\",\n",
    "              \"R_current_lose_streak\", \"R_current_win_streak\", \"R_wins\", \"R_Stance\",\n",
    "              \"B_age\", \"R_age\",  \"Winner\"]]"
   ]
  },
  {
   "cell_type": "code",
   "execution_count": 18,
   "metadata": {},
   "outputs": [
    {
     "data": {
      "text/plain": [
       "Red     2016\n",
       "Blue    1135\n",
       "Draw      51\n",
       "Name: Winner, dtype: int64"
      ]
     },
     "execution_count": 18,
     "metadata": {},
     "output_type": "execute_result"
    }
   ],
   "source": [
    "data_X[\"Winner\"].value_counts()"
   ]
  },
  {
   "cell_type": "markdown",
   "metadata": {},
   "source": [
    "#### 명목형 변수 수치형 변환"
   ]
  },
  {
   "cell_type": "code",
   "execution_count": 19,
   "metadata": {},
   "outputs": [],
   "source": [
    "data_X[\"Winner\"] = data_X[\"Winner\"].map({\"Red\" : 1, \"Blue\" : 0, \"Draw\" : 100})"
   ]
  },
  {
   "cell_type": "markdown",
   "metadata": {},
   "source": [
    "#### weight_class, stance는 각 체급별로 각 자세별로 \n",
    "#### 다르므로, one_hot_encoding"
   ]
  },
  {
   "cell_type": "code",
   "execution_count": 20,
   "metadata": {},
   "outputs": [],
   "source": [
    "a = pd.get_dummies(data_X[\"weight_class\"], prefix = \"weight_class\")"
   ]
  },
  {
   "cell_type": "code",
   "execution_count": 21,
   "metadata": {},
   "outputs": [],
   "source": [
    "b = pd.get_dummies(data_X[\"B_Stance\"], prefix = \"B_Stance\")\n",
    "c = pd.get_dummies(data_X[\"R_Stance\"], prefix = \"R_Stance\")"
   ]
  },
  {
   "cell_type": "code",
   "execution_count": 22,
   "metadata": {},
   "outputs": [],
   "source": [
    "onehot = pd.concat([a,b,c], axis = 1)"
   ]
  },
  {
   "cell_type": "code",
   "execution_count": 23,
   "metadata": {},
   "outputs": [
    {
     "data": {
      "text/html": [
       "<div>\n",
       "<style scoped>\n",
       "    .dataframe tbody tr th:only-of-type {\n",
       "        vertical-align: middle;\n",
       "    }\n",
       "\n",
       "    .dataframe tbody tr th {\n",
       "        vertical-align: top;\n",
       "    }\n",
       "\n",
       "    .dataframe thead th {\n",
       "        text-align: right;\n",
       "    }\n",
       "</style>\n",
       "<table border=\"1\" class=\"dataframe\">\n",
       "  <thead>\n",
       "    <tr style=\"text-align: right;\">\n",
       "      <th></th>\n",
       "      <th>weight_class_Bantamweight</th>\n",
       "      <th>weight_class_Catch Weight</th>\n",
       "      <th>weight_class_Featherweight</th>\n",
       "      <th>weight_class_Flyweight</th>\n",
       "      <th>weight_class_Heavyweight</th>\n",
       "      <th>weight_class_Light Heavyweight</th>\n",
       "      <th>weight_class_Lightweight</th>\n",
       "      <th>weight_class_Middleweight</th>\n",
       "      <th>weight_class_Welterweight</th>\n",
       "      <th>weight_class_Women's Bantamweight</th>\n",
       "      <th>...</th>\n",
       "      <th>weight_class_Women's Flyweight</th>\n",
       "      <th>weight_class_Women's Strawweight</th>\n",
       "      <th>B_Stance_Open Stance</th>\n",
       "      <th>B_Stance_Orthodox</th>\n",
       "      <th>B_Stance_Southpaw</th>\n",
       "      <th>B_Stance_Switch</th>\n",
       "      <th>R_Stance_Open Stance</th>\n",
       "      <th>R_Stance_Orthodox</th>\n",
       "      <th>R_Stance_Southpaw</th>\n",
       "      <th>R_Stance_Switch</th>\n",
       "    </tr>\n",
       "  </thead>\n",
       "  <tbody>\n",
       "    <tr>\n",
       "      <td>0</td>\n",
       "      <td>1</td>\n",
       "      <td>0</td>\n",
       "      <td>0</td>\n",
       "      <td>0</td>\n",
       "      <td>0</td>\n",
       "      <td>0</td>\n",
       "      <td>0</td>\n",
       "      <td>0</td>\n",
       "      <td>0</td>\n",
       "      <td>0</td>\n",
       "      <td>...</td>\n",
       "      <td>0</td>\n",
       "      <td>0</td>\n",
       "      <td>0</td>\n",
       "      <td>1</td>\n",
       "      <td>0</td>\n",
       "      <td>0</td>\n",
       "      <td>0</td>\n",
       "      <td>1</td>\n",
       "      <td>0</td>\n",
       "      <td>0</td>\n",
       "    </tr>\n",
       "    <tr>\n",
       "      <td>1</td>\n",
       "      <td>0</td>\n",
       "      <td>0</td>\n",
       "      <td>0</td>\n",
       "      <td>0</td>\n",
       "      <td>0</td>\n",
       "      <td>0</td>\n",
       "      <td>0</td>\n",
       "      <td>0</td>\n",
       "      <td>0</td>\n",
       "      <td>0</td>\n",
       "      <td>...</td>\n",
       "      <td>1</td>\n",
       "      <td>0</td>\n",
       "      <td>0</td>\n",
       "      <td>1</td>\n",
       "      <td>0</td>\n",
       "      <td>0</td>\n",
       "      <td>0</td>\n",
       "      <td>0</td>\n",
       "      <td>1</td>\n",
       "      <td>0</td>\n",
       "    </tr>\n",
       "    <tr>\n",
       "      <td>2</td>\n",
       "      <td>0</td>\n",
       "      <td>0</td>\n",
       "      <td>0</td>\n",
       "      <td>0</td>\n",
       "      <td>0</td>\n",
       "      <td>0</td>\n",
       "      <td>1</td>\n",
       "      <td>0</td>\n",
       "      <td>0</td>\n",
       "      <td>0</td>\n",
       "      <td>...</td>\n",
       "      <td>0</td>\n",
       "      <td>0</td>\n",
       "      <td>0</td>\n",
       "      <td>1</td>\n",
       "      <td>0</td>\n",
       "      <td>0</td>\n",
       "      <td>0</td>\n",
       "      <td>1</td>\n",
       "      <td>0</td>\n",
       "      <td>0</td>\n",
       "    </tr>\n",
       "    <tr>\n",
       "      <td>3</td>\n",
       "      <td>1</td>\n",
       "      <td>0</td>\n",
       "      <td>0</td>\n",
       "      <td>0</td>\n",
       "      <td>0</td>\n",
       "      <td>0</td>\n",
       "      <td>0</td>\n",
       "      <td>0</td>\n",
       "      <td>0</td>\n",
       "      <td>0</td>\n",
       "      <td>...</td>\n",
       "      <td>0</td>\n",
       "      <td>0</td>\n",
       "      <td>0</td>\n",
       "      <td>0</td>\n",
       "      <td>0</td>\n",
       "      <td>1</td>\n",
       "      <td>0</td>\n",
       "      <td>1</td>\n",
       "      <td>0</td>\n",
       "      <td>0</td>\n",
       "    </tr>\n",
       "    <tr>\n",
       "      <td>4</td>\n",
       "      <td>0</td>\n",
       "      <td>0</td>\n",
       "      <td>0</td>\n",
       "      <td>0</td>\n",
       "      <td>1</td>\n",
       "      <td>0</td>\n",
       "      <td>0</td>\n",
       "      <td>0</td>\n",
       "      <td>0</td>\n",
       "      <td>0</td>\n",
       "      <td>...</td>\n",
       "      <td>0</td>\n",
       "      <td>0</td>\n",
       "      <td>0</td>\n",
       "      <td>0</td>\n",
       "      <td>1</td>\n",
       "      <td>0</td>\n",
       "      <td>0</td>\n",
       "      <td>0</td>\n",
       "      <td>1</td>\n",
       "      <td>0</td>\n",
       "    </tr>\n",
       "  </tbody>\n",
       "</table>\n",
       "<p>5 rows × 21 columns</p>\n",
       "</div>"
      ],
      "text/plain": [
       "   weight_class_Bantamweight  weight_class_Catch Weight  \\\n",
       "0                          1                          0   \n",
       "1                          0                          0   \n",
       "2                          0                          0   \n",
       "3                          1                          0   \n",
       "4                          0                          0   \n",
       "\n",
       "   weight_class_Featherweight  weight_class_Flyweight  \\\n",
       "0                           0                       0   \n",
       "1                           0                       0   \n",
       "2                           0                       0   \n",
       "3                           0                       0   \n",
       "4                           0                       0   \n",
       "\n",
       "   weight_class_Heavyweight  weight_class_Light Heavyweight  \\\n",
       "0                         0                               0   \n",
       "1                         0                               0   \n",
       "2                         0                               0   \n",
       "3                         0                               0   \n",
       "4                         1                               0   \n",
       "\n",
       "   weight_class_Lightweight  weight_class_Middleweight  \\\n",
       "0                         0                          0   \n",
       "1                         0                          0   \n",
       "2                         1                          0   \n",
       "3                         0                          0   \n",
       "4                         0                          0   \n",
       "\n",
       "   weight_class_Welterweight  weight_class_Women's Bantamweight  ...  \\\n",
       "0                          0                                  0  ...   \n",
       "1                          0                                  0  ...   \n",
       "2                          0                                  0  ...   \n",
       "3                          0                                  0  ...   \n",
       "4                          0                                  0  ...   \n",
       "\n",
       "   weight_class_Women's Flyweight  weight_class_Women's Strawweight  \\\n",
       "0                               0                                 0   \n",
       "1                               1                                 0   \n",
       "2                               0                                 0   \n",
       "3                               0                                 0   \n",
       "4                               0                                 0   \n",
       "\n",
       "   B_Stance_Open Stance  B_Stance_Orthodox  B_Stance_Southpaw  \\\n",
       "0                     0                  1                  0   \n",
       "1                     0                  1                  0   \n",
       "2                     0                  1                  0   \n",
       "3                     0                  0                  0   \n",
       "4                     0                  0                  1   \n",
       "\n",
       "   B_Stance_Switch  R_Stance_Open Stance  R_Stance_Orthodox  \\\n",
       "0                0                     0                  1   \n",
       "1                0                     0                  0   \n",
       "2                0                     0                  1   \n",
       "3                1                     0                  1   \n",
       "4                0                     0                  0   \n",
       "\n",
       "   R_Stance_Southpaw  R_Stance_Switch  \n",
       "0                  0                0  \n",
       "1                  1                0  \n",
       "2                  0                0  \n",
       "3                  0                0  \n",
       "4                  1                0  \n",
       "\n",
       "[5 rows x 21 columns]"
      ]
     },
     "execution_count": 23,
     "metadata": {},
     "output_type": "execute_result"
    }
   ],
   "source": [
    "onehot.head()"
   ]
  },
  {
   "cell_type": "code",
   "execution_count": 24,
   "metadata": {},
   "outputs": [],
   "source": [
    "data_X = pd.concat([data_X, onehot], axis = 1)"
   ]
  },
  {
   "cell_type": "code",
   "execution_count": 25,
   "metadata": {},
   "outputs": [
    {
     "data": {
      "text/html": [
       "<div>\n",
       "<style scoped>\n",
       "    .dataframe tbody tr th:only-of-type {\n",
       "        vertical-align: middle;\n",
       "    }\n",
       "\n",
       "    .dataframe tbody tr th {\n",
       "        vertical-align: top;\n",
       "    }\n",
       "\n",
       "    .dataframe thead th {\n",
       "        text-align: right;\n",
       "    }\n",
       "</style>\n",
       "<table border=\"1\" class=\"dataframe\">\n",
       "  <thead>\n",
       "    <tr style=\"text-align: right;\">\n",
       "      <th></th>\n",
       "      <th>B_avg_BODY_att</th>\n",
       "      <th>B_avg_CLINCH_att</th>\n",
       "      <th>B_avg_DISTANCE_att</th>\n",
       "      <th>B_avg_GROUND_att</th>\n",
       "      <th>B_avg_HEAD_att</th>\n",
       "      <th>B_avg_KD</th>\n",
       "      <th>B_avg_LEG_att</th>\n",
       "      <th>B_avg_SIG_STR_att</th>\n",
       "      <th>B_avg_SUB_ATT</th>\n",
       "      <th>B_avg_TD_att</th>\n",
       "      <th>...</th>\n",
       "      <th>weight_class_Women's Flyweight</th>\n",
       "      <th>weight_class_Women's Strawweight</th>\n",
       "      <th>B_Stance_Open Stance</th>\n",
       "      <th>B_Stance_Orthodox</th>\n",
       "      <th>B_Stance_Southpaw</th>\n",
       "      <th>B_Stance_Switch</th>\n",
       "      <th>R_Stance_Open Stance</th>\n",
       "      <th>R_Stance_Orthodox</th>\n",
       "      <th>R_Stance_Southpaw</th>\n",
       "      <th>R_Stance_Switch</th>\n",
       "    </tr>\n",
       "  </thead>\n",
       "  <tbody>\n",
       "    <tr>\n",
       "      <td>0</td>\n",
       "      <td>9.200000</td>\n",
       "      <td>0.200000</td>\n",
       "      <td>62.600000</td>\n",
       "      <td>2.600000</td>\n",
       "      <td>48.600000</td>\n",
       "      <td>0.800000</td>\n",
       "      <td>7.6</td>\n",
       "      <td>65.40</td>\n",
       "      <td>0.400000</td>\n",
       "      <td>0.80000</td>\n",
       "      <td>...</td>\n",
       "      <td>0</td>\n",
       "      <td>0</td>\n",
       "      <td>0</td>\n",
       "      <td>1</td>\n",
       "      <td>0</td>\n",
       "      <td>0</td>\n",
       "      <td>0</td>\n",
       "      <td>1</td>\n",
       "      <td>0</td>\n",
       "      <td>0</td>\n",
       "    </tr>\n",
       "    <tr>\n",
       "      <td>1</td>\n",
       "      <td>14.600000</td>\n",
       "      <td>11.800000</td>\n",
       "      <td>124.700000</td>\n",
       "      <td>2.400000</td>\n",
       "      <td>112.000000</td>\n",
       "      <td>0.000000</td>\n",
       "      <td>12.3</td>\n",
       "      <td>138.90</td>\n",
       "      <td>0.700000</td>\n",
       "      <td>1.00000</td>\n",
       "      <td>...</td>\n",
       "      <td>1</td>\n",
       "      <td>0</td>\n",
       "      <td>0</td>\n",
       "      <td>1</td>\n",
       "      <td>0</td>\n",
       "      <td>0</td>\n",
       "      <td>0</td>\n",
       "      <td>0</td>\n",
       "      <td>1</td>\n",
       "      <td>0</td>\n",
       "    </tr>\n",
       "    <tr>\n",
       "      <td>2</td>\n",
       "      <td>15.354839</td>\n",
       "      <td>6.741935</td>\n",
       "      <td>84.741935</td>\n",
       "      <td>5.516129</td>\n",
       "      <td>67.645161</td>\n",
       "      <td>0.645161</td>\n",
       "      <td>14.0</td>\n",
       "      <td>97.00</td>\n",
       "      <td>0.354839</td>\n",
       "      <td>2.16129</td>\n",
       "      <td>...</td>\n",
       "      <td>0</td>\n",
       "      <td>0</td>\n",
       "      <td>0</td>\n",
       "      <td>1</td>\n",
       "      <td>0</td>\n",
       "      <td>0</td>\n",
       "      <td>0</td>\n",
       "      <td>1</td>\n",
       "      <td>0</td>\n",
       "      <td>0</td>\n",
       "    </tr>\n",
       "    <tr>\n",
       "      <td>3</td>\n",
       "      <td>17.000000</td>\n",
       "      <td>13.750000</td>\n",
       "      <td>109.500000</td>\n",
       "      <td>13.000000</td>\n",
       "      <td>116.250000</td>\n",
       "      <td>0.500000</td>\n",
       "      <td>3.0</td>\n",
       "      <td>136.25</td>\n",
       "      <td>0.250000</td>\n",
       "      <td>2.50000</td>\n",
       "      <td>...</td>\n",
       "      <td>0</td>\n",
       "      <td>0</td>\n",
       "      <td>0</td>\n",
       "      <td>0</td>\n",
       "      <td>0</td>\n",
       "      <td>1</td>\n",
       "      <td>0</td>\n",
       "      <td>1</td>\n",
       "      <td>0</td>\n",
       "      <td>0</td>\n",
       "    </tr>\n",
       "    <tr>\n",
       "      <td>4</td>\n",
       "      <td>17.000000</td>\n",
       "      <td>2.500000</td>\n",
       "      <td>201.000000</td>\n",
       "      <td>0.000000</td>\n",
       "      <td>184.500000</td>\n",
       "      <td>0.000000</td>\n",
       "      <td>2.0</td>\n",
       "      <td>203.50</td>\n",
       "      <td>0.000000</td>\n",
       "      <td>0.00000</td>\n",
       "      <td>...</td>\n",
       "      <td>0</td>\n",
       "      <td>0</td>\n",
       "      <td>0</td>\n",
       "      <td>0</td>\n",
       "      <td>1</td>\n",
       "      <td>0</td>\n",
       "      <td>0</td>\n",
       "      <td>0</td>\n",
       "      <td>1</td>\n",
       "      <td>0</td>\n",
       "    </tr>\n",
       "  </tbody>\n",
       "</table>\n",
       "<p>5 rows × 74 columns</p>\n",
       "</div>"
      ],
      "text/plain": [
       "   B_avg_BODY_att  B_avg_CLINCH_att  B_avg_DISTANCE_att  B_avg_GROUND_att  \\\n",
       "0        9.200000          0.200000           62.600000          2.600000   \n",
       "1       14.600000         11.800000          124.700000          2.400000   \n",
       "2       15.354839          6.741935           84.741935          5.516129   \n",
       "3       17.000000         13.750000          109.500000         13.000000   \n",
       "4       17.000000          2.500000          201.000000          0.000000   \n",
       "\n",
       "   B_avg_HEAD_att  B_avg_KD  B_avg_LEG_att  B_avg_SIG_STR_att  B_avg_SUB_ATT  \\\n",
       "0       48.600000  0.800000            7.6              65.40       0.400000   \n",
       "1      112.000000  0.000000           12.3             138.90       0.700000   \n",
       "2       67.645161  0.645161           14.0              97.00       0.354839   \n",
       "3      116.250000  0.500000            3.0             136.25       0.250000   \n",
       "4      184.500000  0.000000            2.0             203.50       0.000000   \n",
       "\n",
       "   B_avg_TD_att  ...  weight_class_Women's Flyweight  \\\n",
       "0       0.80000  ...                               0   \n",
       "1       1.00000  ...                               1   \n",
       "2       2.16129  ...                               0   \n",
       "3       2.50000  ...                               0   \n",
       "4       0.00000  ...                               0   \n",
       "\n",
       "   weight_class_Women's Strawweight  B_Stance_Open Stance  B_Stance_Orthodox  \\\n",
       "0                                 0                     0                  1   \n",
       "1                                 0                     0                  1   \n",
       "2                                 0                     0                  1   \n",
       "3                                 0                     0                  0   \n",
       "4                                 0                     0                  0   \n",
       "\n",
       "   B_Stance_Southpaw  B_Stance_Switch  R_Stance_Open Stance  \\\n",
       "0                  0                0                     0   \n",
       "1                  0                0                     0   \n",
       "2                  0                0                     0   \n",
       "3                  0                1                     0   \n",
       "4                  1                0                     0   \n",
       "\n",
       "   R_Stance_Orthodox  R_Stance_Southpaw  R_Stance_Switch  \n",
       "0                  1                  0                0  \n",
       "1                  0                  1                0  \n",
       "2                  1                  0                0  \n",
       "3                  1                  0                0  \n",
       "4                  0                  1                0  \n",
       "\n",
       "[5 rows x 74 columns]"
      ]
     },
     "execution_count": 25,
     "metadata": {},
     "output_type": "execute_result"
    }
   ],
   "source": [
    "data_X.head()"
   ]
  },
  {
   "cell_type": "markdown",
   "metadata": {},
   "source": [
    "#### 더미화 후 범주 컬럼 제거"
   ]
  },
  {
   "cell_type": "code",
   "execution_count": 26,
   "metadata": {},
   "outputs": [],
   "source": [
    "data_X = data_X.drop([\"weight_class\", \"B_Stance\", \"R_Stance\"], axis = 1)"
   ]
  },
  {
   "cell_type": "code",
   "execution_count": 27,
   "metadata": {},
   "outputs": [
    {
     "data": {
      "text/plain": [
       "0       1\n",
       "1       1\n",
       "2       1\n",
       "3       0\n",
       "4       0\n",
       "       ..\n",
       "4887    1\n",
       "4901    1\n",
       "4923    1\n",
       "4967    1\n",
       "5008    1\n",
       "Name: Winner, Length: 3202, dtype: int64"
      ]
     },
     "execution_count": 27,
     "metadata": {},
     "output_type": "execute_result"
    }
   ],
   "source": [
    "data_X[\"Winner\"]"
   ]
  },
  {
   "cell_type": "markdown",
   "metadata": {},
   "source": [
    "##### 선수 스탯 컬럼을 가지고 선수의 성향 타입 clustering\n",
    "##### (복싱,권투) - (레슬링,주짓수) - (MMA)"
   ]
  },
  {
   "cell_type": "code",
   "execution_count": 28,
   "metadata": {},
   "outputs": [],
   "source": [
    "from sklearn.cluster import KMeans\n",
    "cluster = KMeans(n_clusters = 3)"
   ]
  },
  {
   "cell_type": "code",
   "execution_count": 29,
   "metadata": {},
   "outputs": [],
   "source": [
    "x = player[['B_avg_BODY_att', 'B_avg_CLINCH_att', 'B_avg_DISTANCE_att', 'B_avg_GROUND_att', 'B_avg_HEAD_att', 'B_avg_KD', 'B_avg_LEG_att',\n",
    "       'B_avg_SIG_STR_att', 'B_avg_SUB_ATT', 'B_avg_TD_att', 'B_avg_TOTAL_STR_att', 'B_win_by_KO/TKO', 'B_win_by_Submission',]]"
   ]
  },
  {
   "cell_type": "code",
   "execution_count": 30,
   "metadata": {},
   "outputs": [
    {
     "data": {
      "text/html": [
       "<div>\n",
       "<style scoped>\n",
       "    .dataframe tbody tr th:only-of-type {\n",
       "        vertical-align: middle;\n",
       "    }\n",
       "\n",
       "    .dataframe tbody tr th {\n",
       "        vertical-align: top;\n",
       "    }\n",
       "\n",
       "    .dataframe thead th {\n",
       "        text-align: right;\n",
       "    }\n",
       "</style>\n",
       "<table border=\"1\" class=\"dataframe\">\n",
       "  <thead>\n",
       "    <tr style=\"text-align: right;\">\n",
       "      <th></th>\n",
       "      <th>B_avg_BODY_att</th>\n",
       "      <th>B_avg_CLINCH_att</th>\n",
       "      <th>B_avg_DISTANCE_att</th>\n",
       "      <th>B_avg_GROUND_att</th>\n",
       "      <th>B_avg_HEAD_att</th>\n",
       "      <th>B_avg_KD</th>\n",
       "      <th>B_avg_LEG_att</th>\n",
       "      <th>B_avg_SIG_STR_att</th>\n",
       "      <th>B_avg_SUB_ATT</th>\n",
       "      <th>B_avg_TD_att</th>\n",
       "      <th>B_avg_TOTAL_STR_att</th>\n",
       "      <th>B_win_by_KO/TKO</th>\n",
       "      <th>B_win_by_Submission</th>\n",
       "    </tr>\n",
       "  </thead>\n",
       "  <tbody>\n",
       "    <tr>\n",
       "      <td>0</td>\n",
       "      <td>9.200000</td>\n",
       "      <td>0.200000</td>\n",
       "      <td>62.600000</td>\n",
       "      <td>2.600000</td>\n",
       "      <td>48.600000</td>\n",
       "      <td>0.800000</td>\n",
       "      <td>7.6</td>\n",
       "      <td>65.40</td>\n",
       "      <td>0.400000</td>\n",
       "      <td>0.80000</td>\n",
       "      <td>66.400000</td>\n",
       "      <td>2.0</td>\n",
       "      <td>1.0</td>\n",
       "    </tr>\n",
       "    <tr>\n",
       "      <td>1</td>\n",
       "      <td>14.600000</td>\n",
       "      <td>11.800000</td>\n",
       "      <td>124.700000</td>\n",
       "      <td>2.400000</td>\n",
       "      <td>112.000000</td>\n",
       "      <td>0.000000</td>\n",
       "      <td>12.3</td>\n",
       "      <td>138.90</td>\n",
       "      <td>0.700000</td>\n",
       "      <td>1.00000</td>\n",
       "      <td>158.700000</td>\n",
       "      <td>0.0</td>\n",
       "      <td>0.0</td>\n",
       "    </tr>\n",
       "    <tr>\n",
       "      <td>2</td>\n",
       "      <td>15.354839</td>\n",
       "      <td>6.741935</td>\n",
       "      <td>84.741935</td>\n",
       "      <td>5.516129</td>\n",
       "      <td>67.645161</td>\n",
       "      <td>0.645161</td>\n",
       "      <td>14.0</td>\n",
       "      <td>97.00</td>\n",
       "      <td>0.354839</td>\n",
       "      <td>2.16129</td>\n",
       "      <td>103.709677</td>\n",
       "      <td>10.0</td>\n",
       "      <td>6.0</td>\n",
       "    </tr>\n",
       "    <tr>\n",
       "      <td>3</td>\n",
       "      <td>17.000000</td>\n",
       "      <td>13.750000</td>\n",
       "      <td>109.500000</td>\n",
       "      <td>13.000000</td>\n",
       "      <td>116.250000</td>\n",
       "      <td>0.500000</td>\n",
       "      <td>3.0</td>\n",
       "      <td>136.25</td>\n",
       "      <td>0.250000</td>\n",
       "      <td>2.50000</td>\n",
       "      <td>154.750000</td>\n",
       "      <td>2.0</td>\n",
       "      <td>0.0</td>\n",
       "    </tr>\n",
       "    <tr>\n",
       "      <td>4</td>\n",
       "      <td>17.000000</td>\n",
       "      <td>2.500000</td>\n",
       "      <td>201.000000</td>\n",
       "      <td>0.000000</td>\n",
       "      <td>184.500000</td>\n",
       "      <td>0.000000</td>\n",
       "      <td>2.0</td>\n",
       "      <td>203.50</td>\n",
       "      <td>0.000000</td>\n",
       "      <td>0.00000</td>\n",
       "      <td>204.000000</td>\n",
       "      <td>0.0</td>\n",
       "      <td>0.0</td>\n",
       "    </tr>\n",
       "  </tbody>\n",
       "</table>\n",
       "</div>"
      ],
      "text/plain": [
       "   B_avg_BODY_att  B_avg_CLINCH_att  B_avg_DISTANCE_att  B_avg_GROUND_att  \\\n",
       "0        9.200000          0.200000           62.600000          2.600000   \n",
       "1       14.600000         11.800000          124.700000          2.400000   \n",
       "2       15.354839          6.741935           84.741935          5.516129   \n",
       "3       17.000000         13.750000          109.500000         13.000000   \n",
       "4       17.000000          2.500000          201.000000          0.000000   \n",
       "\n",
       "   B_avg_HEAD_att  B_avg_KD  B_avg_LEG_att  B_avg_SIG_STR_att  B_avg_SUB_ATT  \\\n",
       "0       48.600000  0.800000            7.6              65.40       0.400000   \n",
       "1      112.000000  0.000000           12.3             138.90       0.700000   \n",
       "2       67.645161  0.645161           14.0              97.00       0.354839   \n",
       "3      116.250000  0.500000            3.0             136.25       0.250000   \n",
       "4      184.500000  0.000000            2.0             203.50       0.000000   \n",
       "\n",
       "   B_avg_TD_att  B_avg_TOTAL_STR_att  B_win_by_KO/TKO  B_win_by_Submission  \n",
       "0       0.80000            66.400000              2.0                  1.0  \n",
       "1       1.00000           158.700000              0.0                  0.0  \n",
       "2       2.16129           103.709677             10.0                  6.0  \n",
       "3       2.50000           154.750000              2.0                  0.0  \n",
       "4       0.00000           204.000000              0.0                  0.0  "
      ]
     },
     "execution_count": 30,
     "metadata": {},
     "output_type": "execute_result"
    }
   ],
   "source": [
    "x.head()"
   ]
  },
  {
   "cell_type": "markdown",
   "metadata": {},
   "source": [
    "# MinMaxScaling"
   ]
  },
  {
   "cell_type": "code",
   "execution_count": 31,
   "metadata": {},
   "outputs": [],
   "source": [
    "from sklearn.preprocessing import MinMaxScaler\n",
    "scl = MinMaxScaler()"
   ]
  },
  {
   "cell_type": "code",
   "execution_count": 32,
   "metadata": {},
   "outputs": [
    {
     "data": {
      "text/plain": [
       "MinMaxScaler(copy=True, feature_range=(0, 1))"
      ]
     },
     "execution_count": 32,
     "metadata": {},
     "output_type": "execute_result"
    }
   ],
   "source": [
    "scl.fit(x)\n",
    "x_scaled = scl.transform(x)"
   ]
  },
  {
   "cell_type": "markdown",
   "metadata": {},
   "source": [
    "### Feature Engineering (1) - Kmeans Clustering with Scaling"
   ]
  },
  {
   "cell_type": "code",
   "execution_count": 33,
   "metadata": {},
   "outputs": [
    {
     "data": {
      "text/plain": [
       "array([[0.18039216, 0.00229885, 0.23099631, ..., 0.18444444, 0.18181818,\n",
       "        0.07692308],\n",
       "       [0.28627451, 0.13563218, 0.4601476 , ..., 0.44083333, 0.        ,\n",
       "        0.        ],\n",
       "       [0.30107527, 0.07749351, 0.31270087, ..., 0.28808244, 0.90909091,\n",
       "        0.46153846],\n",
       "       ...,\n",
       "       [0.01960784, 0.00689655, 0.00295203, ..., 0.08555556, 0.09090909,\n",
       "        0.15384615],\n",
       "       [0.01960784, 0.        , 0.00123001, ..., 0.02222222, 0.09090909,\n",
       "        0.07692308],\n",
       "       [0.        , 0.        , 0.        , ..., 0.00555556, 0.        ,\n",
       "        0.07692308]])"
      ]
     },
     "execution_count": 33,
     "metadata": {},
     "output_type": "execute_result"
    }
   ],
   "source": [
    "x_scaled"
   ]
  },
  {
   "cell_type": "code",
   "execution_count": 32,
   "metadata": {},
   "outputs": [
    {
     "data": {
      "text/plain": [
       "<matplotlib.axes._subplots.AxesSubplot at 0x21e01cd48c8>"
      ]
     },
     "execution_count": 32,
     "metadata": {},
     "output_type": "execute_result"
    },
    {
     "data": {
      "text/plain": [
       "2    4266\n",
       "1    2181\n",
       "0    1132\n",
       "Name: cluster, dtype: int64"
      ]
     },
     "execution_count": 32,
     "metadata": {},
     "output_type": "execute_result"
    },
    {
     "data": {
      "image/png": "[encoded data removed]",
      "text/plain": [
       "<Figure size 432x288 with 1 Axes>"
      ]
     },
     "metadata": {
      "needs_background": "light"
     },
     "output_type": "display_data"
    }
   ],
   "source": [
    "y = cluster.fit_predict(x_scaled)\n",
    "player[\"cluster\"] = y\n",
    "\n",
    "sns.countplot(x= \"cluster\",data=player)\n",
    "player[\"cluster\"].value_counts()"
   ]
  },
  {
   "cell_type": "markdown",
   "metadata": {},
   "source": [
    "#### data에서 Blue팀 Red팀 선수 별 클러스터링 결과 넣기  \n",
    "#### 위해서 각각 원래 player 데이터 프레임에서 맞춰놓은\n",
    "#### scaler로 스케일링"
   ]
  },
  {
   "cell_type": "code",
   "execution_count": 33,
   "metadata": {},
   "outputs": [],
   "source": [
    "data_Blue = data[['B_avg_BODY_att', 'B_avg_CLINCH_att', 'B_avg_DISTANCE_att', 'B_avg_GROUND_att', 'B_avg_HEAD_att', 'B_avg_KD', 'B_avg_LEG_att',\n",
    "       'B_avg_SIG_STR_att', 'B_avg_SUB_ATT', 'B_avg_TD_att', 'B_avg_TOTAL_STR_att', 'B_win_by_KO/TKO', 'B_win_by_Submission',\n",
    "       ]]"
   ]
  },
  {
   "cell_type": "code",
   "execution_count": 34,
   "metadata": {},
   "outputs": [],
   "source": [
    "data_Red = data[['R_avg_BODY_att', 'R_avg_CLINCH_att', 'R_avg_DISTANCE_att', 'R_avg_GROUND_att', 'R_avg_HEAD_att', 'R_avg_KD', 'R_avg_LEG_att',\n",
    "       'R_avg_SIG_STR_att', 'R_avg_SUB_ATT', 'R_avg_TD_att', 'R_avg_TOTAL_STR_att', 'R_win_by_KO/TKO', 'R_win_by_Submission',\n",
    "       ]]"
   ]
  },
  {
   "cell_type": "code",
   "execution_count": 35,
   "metadata": {},
   "outputs": [],
   "source": [
    "data_B_scaled = scl.transform(data_Blue)\n",
    "data_R_scaled = scl.transform(data_Red)"
   ]
  },
  {
   "cell_type": "code",
   "execution_count": 36,
   "metadata": {},
   "outputs": [],
   "source": [
    "data_X[\"B_cluster\"] = cluster.fit_predict(data_B_scaled)\n",
    "data_X[\"R_cluster\"] = cluster.fit_predict(data_R_scaled)"
   ]
  },
  {
   "cell_type": "code",
   "execution_count": 37,
   "metadata": {},
   "outputs": [
    {
     "data": {
      "text/plain": [
       "<matplotlib.axes._subplots.AxesSubplot at 0x21e021a8388>"
      ]
     },
     "execution_count": 37,
     "metadata": {},
     "output_type": "execute_result"
    },
    {
     "data": {
      "image/png": "[encoded data removed]",
      "text/plain": [
       "<Figure size 432x288 with 1 Axes>"
      ]
     },
     "metadata": {
      "needs_background": "light"
     },
     "output_type": "display_data"
    }
   ],
   "source": [
    "sns.countplot(x=\"B_cluster\",data=data_X)"
   ]
  },
  {
   "cell_type": "code",
   "execution_count": 38,
   "metadata": {},
   "outputs": [
    {
     "data": {
      "text/plain": [
       "<matplotlib.axes._subplots.AxesSubplot at 0x21e021f3c88>"
      ]
     },
     "execution_count": 38,
     "metadata": {},
     "output_type": "execute_result"
    },
    {
     "data": {
      "image/png": "[encoded data removed]",
      "text/plain": [
       "<Figure size 432x288 with 1 Axes>"
      ]
     },
     "metadata": {
      "needs_background": "light"
     },
     "output_type": "display_data"
    }
   ],
   "source": [
    "sns.countplot(x=\"R_cluster\",data=data_X)"
   ]
  },
  {
   "cell_type": "code",
   "execution_count": 39,
   "metadata": {},
   "outputs": [
    {
     "data": {
      "text/plain": [
       "Index(['B_avg_BODY_att', 'B_avg_CLINCH_att', 'B_avg_DISTANCE_att',\n",
       "       'B_avg_GROUND_att', 'B_avg_HEAD_att', 'B_avg_KD', 'B_avg_LEG_att',\n",
       "       'B_avg_SIG_STR_att', 'B_avg_SUB_ATT', 'B_avg_TD_att',\n",
       "       'B_avg_TOTAL_STR_att', 'B_Height_cms', 'B_Reach_cms', 'B_Weight_lbs',\n",
       "       'R_avg_BODY_att', 'R_avg_CLINCH_att', 'R_avg_DISTANCE_att',\n",
       "       'R_avg_GROUND_att', 'R_avg_HEAD_att', 'R_avg_KD', 'R_avg_LEG_att',\n",
       "       'R_avg_SIG_STR_att', 'R_avg_SUB_ATT', 'R_avg_TD_att',\n",
       "       'R_avg_TOTAL_STR_att', 'R_Height_cms', 'R_Reach_cms', 'R_Weight_lbs',\n",
       "       'title_bout', 'B_win_by_Decision_Majority', 'B_win_by_Decision_Split',\n",
       "       'B_win_by_Decision_Unanimous', 'B_win_by_KO/TKO', 'B_win_by_Submission',\n",
       "       'B_win_by_TKO_Doctor_Stoppage', 'R_win_by_Decision_Majority',\n",
       "       'R_win_by_Decision_Split', 'R_win_by_Decision_Unanimous',\n",
       "       'R_win_by_KO/TKO', 'R_win_by_Submission',\n",
       "       'R_win_by_TKO_Doctor_Stoppage', 'B_current_lose_streak',\n",
       "       'B_current_win_streak', 'B_wins', 'R_current_lose_streak',\n",
       "       'R_current_win_streak', 'R_wins', 'B_age', 'R_age', 'Winner',\n",
       "       'weight_class_Bantamweight', 'weight_class_Catch Weight',\n",
       "       'weight_class_Featherweight', 'weight_class_Flyweight',\n",
       "       'weight_class_Heavyweight', 'weight_class_Light Heavyweight',\n",
       "       'weight_class_Lightweight', 'weight_class_Middleweight',\n",
       "       'weight_class_Welterweight', 'weight_class_Women's Bantamweight',\n",
       "       'weight_class_Women's Featherweight', 'weight_class_Women's Flyweight',\n",
       "       'weight_class_Women's Strawweight', 'B_Stance_Open Stance',\n",
       "       'B_Stance_Orthodox', 'B_Stance_Southpaw', 'B_Stance_Switch',\n",
       "       'R_Stance_Open Stance', 'R_Stance_Orthodox', 'R_Stance_Southpaw',\n",
       "       'R_Stance_Switch', 'B_cluster', 'R_cluster'],\n",
       "      dtype='object')"
      ]
     },
     "execution_count": 39,
     "metadata": {},
     "output_type": "execute_result"
    }
   ],
   "source": [
    "data_X.columns"
   ]
  },
  {
   "cell_type": "code",
   "execution_count": 40,
   "metadata": {},
   "outputs": [],
   "source": [
    "B_scaled = pd.DataFrame(data_B_scaled)\n",
    "R_scaled = pd.DataFrame(data_R_scaled)"
   ]
  },
  {
   "cell_type": "code",
   "execution_count": 41,
   "metadata": {},
   "outputs": [
    {
     "data": {
      "text/plain": [
       "12"
      ]
     },
     "execution_count": 41,
     "metadata": {},
     "output_type": "execute_result"
    },
    {
     "data": {
      "text/plain": [
       "12"
      ]
     },
     "execution_count": 41,
     "metadata": {},
     "output_type": "execute_result"
    }
   ],
   "source": [
    "col = ['B_avg_BODY_att', 'B_avg_CLINCH_att', 'B_avg_DISTANCE_att', 'B_avg_GROUND_att', 'B_avg_HEAD_att', 'B_avg_KD', 'B_avg_LEG_att',\n",
    "       'B_avg_SIG_STR_att', 'B_avg_SUB_ATT', 'B_avg_TD_att', 'B_avg_TOTAL_STR_att', 'B_win_by_KO/TKO']\n",
    "col2 = ['BODY','CLINCH','DISTANCE','GROUND','HEAD','KD','LEG','SIGSTR','SUB','TD','TOTALSTR','WIN(T)KO']\n",
    "len(col2)\n",
    "len(col)"
   ]
  },
  {
   "cell_type": "code",
   "execution_count": 42,
   "metadata": {},
   "outputs": [
    {
     "data": {
      "text/html": [
       "<div>\n",
       "<style scoped>\n",
       "    .dataframe tbody tr th:only-of-type {\n",
       "        vertical-align: middle;\n",
       "    }\n",
       "\n",
       "    .dataframe tbody tr th {\n",
       "        vertical-align: top;\n",
       "    }\n",
       "\n",
       "    .dataframe thead th {\n",
       "        text-align: right;\n",
       "    }\n",
       "</style>\n",
       "<table border=\"1\" class=\"dataframe\">\n",
       "  <thead>\n",
       "    <tr style=\"text-align: right;\">\n",
       "      <th></th>\n",
       "      <th>0</th>\n",
       "      <th>1</th>\n",
       "      <th>2</th>\n",
       "      <th>3</th>\n",
       "      <th>4</th>\n",
       "      <th>5</th>\n",
       "      <th>6</th>\n",
       "      <th>7</th>\n",
       "      <th>8</th>\n",
       "      <th>9</th>\n",
       "      <th>10</th>\n",
       "      <th>11</th>\n",
       "      <th>12</th>\n",
       "      <th>B_cluster</th>\n",
       "    </tr>\n",
       "  </thead>\n",
       "  <tbody>\n",
       "    <tr>\n",
       "      <td>0</td>\n",
       "      <td>0.180392</td>\n",
       "      <td>0.002299</td>\n",
       "      <td>0.230996</td>\n",
       "      <td>0.027083</td>\n",
       "      <td>0.175451</td>\n",
       "      <td>0.160000</td>\n",
       "      <td>0.120635</td>\n",
       "      <td>0.218729</td>\n",
       "      <td>0.044444</td>\n",
       "      <td>0.032000</td>\n",
       "      <td>0.184444</td>\n",
       "      <td>0.181818</td>\n",
       "      <td>0.076923</td>\n",
       "      <td>2.0</td>\n",
       "    </tr>\n",
       "    <tr>\n",
       "      <td>1</td>\n",
       "      <td>0.286275</td>\n",
       "      <td>0.135632</td>\n",
       "      <td>0.460148</td>\n",
       "      <td>0.025000</td>\n",
       "      <td>0.404332</td>\n",
       "      <td>0.000000</td>\n",
       "      <td>0.195238</td>\n",
       "      <td>0.464548</td>\n",
       "      <td>0.077778</td>\n",
       "      <td>0.040000</td>\n",
       "      <td>0.440833</td>\n",
       "      <td>0.000000</td>\n",
       "      <td>0.000000</td>\n",
       "      <td>1.0</td>\n",
       "    </tr>\n",
       "    <tr>\n",
       "      <td>2</td>\n",
       "      <td>0.301075</td>\n",
       "      <td>0.077494</td>\n",
       "      <td>0.312701</td>\n",
       "      <td>0.057460</td>\n",
       "      <td>0.244206</td>\n",
       "      <td>0.129032</td>\n",
       "      <td>0.222222</td>\n",
       "      <td>0.324415</td>\n",
       "      <td>0.039427</td>\n",
       "      <td>0.086452</td>\n",
       "      <td>0.288082</td>\n",
       "      <td>0.909091</td>\n",
       "      <td>0.461538</td>\n",
       "      <td>2.0</td>\n",
       "    </tr>\n",
       "    <tr>\n",
       "      <td>3</td>\n",
       "      <td>0.333333</td>\n",
       "      <td>0.158046</td>\n",
       "      <td>0.404059</td>\n",
       "      <td>0.135417</td>\n",
       "      <td>0.419675</td>\n",
       "      <td>0.100000</td>\n",
       "      <td>0.047619</td>\n",
       "      <td>0.455686</td>\n",
       "      <td>0.027778</td>\n",
       "      <td>0.100000</td>\n",
       "      <td>0.429861</td>\n",
       "      <td>0.181818</td>\n",
       "      <td>0.000000</td>\n",
       "      <td>1.0</td>\n",
       "    </tr>\n",
       "    <tr>\n",
       "      <td>4</td>\n",
       "      <td>0.333333</td>\n",
       "      <td>0.028736</td>\n",
       "      <td>0.741697</td>\n",
       "      <td>0.000000</td>\n",
       "      <td>0.666065</td>\n",
       "      <td>0.000000</td>\n",
       "      <td>0.031746</td>\n",
       "      <td>0.680602</td>\n",
       "      <td>0.000000</td>\n",
       "      <td>0.000000</td>\n",
       "      <td>0.566667</td>\n",
       "      <td>0.000000</td>\n",
       "      <td>0.000000</td>\n",
       "      <td>1.0</td>\n",
       "    </tr>\n",
       "  </tbody>\n",
       "</table>\n",
       "</div>"
      ],
      "text/plain": [
       "          0         1         2         3         4         5         6  \\\n",
       "0  0.180392  0.002299  0.230996  0.027083  0.175451  0.160000  0.120635   \n",
       "1  0.286275  0.135632  0.460148  0.025000  0.404332  0.000000  0.195238   \n",
       "2  0.301075  0.077494  0.312701  0.057460  0.244206  0.129032  0.222222   \n",
       "3  0.333333  0.158046  0.404059  0.135417  0.419675  0.100000  0.047619   \n",
       "4  0.333333  0.028736  0.741697  0.000000  0.666065  0.000000  0.031746   \n",
       "\n",
       "          7         8         9        10        11        12  B_cluster  \n",
       "0  0.218729  0.044444  0.032000  0.184444  0.181818  0.076923        2.0  \n",
       "1  0.464548  0.077778  0.040000  0.440833  0.000000  0.000000        1.0  \n",
       "2  0.324415  0.039427  0.086452  0.288082  0.909091  0.461538        2.0  \n",
       "3  0.455686  0.027778  0.100000  0.429861  0.181818  0.000000        1.0  \n",
       "4  0.680602  0.000000  0.000000  0.566667  0.000000  0.000000        1.0  "
      ]
     },
     "execution_count": 42,
     "metadata": {},
     "output_type": "execute_result"
    },
    {
     "data": {
      "text/html": [
       "<div>\n",
       "<style scoped>\n",
       "    .dataframe tbody tr th:only-of-type {\n",
       "        vertical-align: middle;\n",
       "    }\n",
       "\n",
       "    .dataframe tbody tr th {\n",
       "        vertical-align: top;\n",
       "    }\n",
       "\n",
       "    .dataframe thead th {\n",
       "        text-align: right;\n",
       "    }\n",
       "</style>\n",
       "<table border=\"1\" class=\"dataframe\">\n",
       "  <thead>\n",
       "    <tr style=\"text-align: right;\">\n",
       "      <th></th>\n",
       "      <th>0</th>\n",
       "      <th>1</th>\n",
       "      <th>2</th>\n",
       "      <th>3</th>\n",
       "      <th>4</th>\n",
       "      <th>5</th>\n",
       "      <th>6</th>\n",
       "      <th>7</th>\n",
       "      <th>8</th>\n",
       "      <th>9</th>\n",
       "      <th>10</th>\n",
       "      <th>11</th>\n",
       "      <th>12</th>\n",
       "      <th>R_cluster</th>\n",
       "    </tr>\n",
       "  </thead>\n",
       "  <tbody>\n",
       "    <tr>\n",
       "      <td>0</td>\n",
       "      <td>0.429412</td>\n",
       "      <td>0.195402</td>\n",
       "      <td>0.276753</td>\n",
       "      <td>0.097917</td>\n",
       "      <td>0.267870</td>\n",
       "      <td>0.080</td>\n",
       "      <td>0.084127</td>\n",
       "      <td>0.339130</td>\n",
       "      <td>0.011111</td>\n",
       "      <td>0.212000</td>\n",
       "      <td>0.360833</td>\n",
       "      <td>0.181818</td>\n",
       "      <td>0.000000</td>\n",
       "      <td>0.0</td>\n",
       "    </tr>\n",
       "    <tr>\n",
       "      <td>1</td>\n",
       "      <td>0.235294</td>\n",
       "      <td>0.106732</td>\n",
       "      <td>0.325250</td>\n",
       "      <td>0.191964</td>\n",
       "      <td>0.305312</td>\n",
       "      <td>0.000</td>\n",
       "      <td>0.306122</td>\n",
       "      <td>0.387482</td>\n",
       "      <td>0.047619</td>\n",
       "      <td>0.205714</td>\n",
       "      <td>0.448810</td>\n",
       "      <td>0.000000</td>\n",
       "      <td>0.153846</td>\n",
       "      <td>0.0</td>\n",
       "    </tr>\n",
       "    <tr>\n",
       "      <td>2</td>\n",
       "      <td>0.271895</td>\n",
       "      <td>0.032950</td>\n",
       "      <td>0.428536</td>\n",
       "      <td>0.055556</td>\n",
       "      <td>0.349218</td>\n",
       "      <td>0.040</td>\n",
       "      <td>0.217989</td>\n",
       "      <td>0.415831</td>\n",
       "      <td>0.111111</td>\n",
       "      <td>0.037333</td>\n",
       "      <td>0.369444</td>\n",
       "      <td>0.272727</td>\n",
       "      <td>0.461538</td>\n",
       "      <td>0.0</td>\n",
       "    </tr>\n",
       "    <tr>\n",
       "      <td>3</td>\n",
       "      <td>0.357843</td>\n",
       "      <td>0.067529</td>\n",
       "      <td>0.386993</td>\n",
       "      <td>0.010417</td>\n",
       "      <td>0.290614</td>\n",
       "      <td>0.075</td>\n",
       "      <td>0.206349</td>\n",
       "      <td>0.373746</td>\n",
       "      <td>0.000000</td>\n",
       "      <td>0.090000</td>\n",
       "      <td>0.326042</td>\n",
       "      <td>0.090909</td>\n",
       "      <td>0.000000</td>\n",
       "      <td>0.0</td>\n",
       "    </tr>\n",
       "    <tr>\n",
       "      <td>4</td>\n",
       "      <td>0.151961</td>\n",
       "      <td>0.126437</td>\n",
       "      <td>0.187269</td>\n",
       "      <td>0.005208</td>\n",
       "      <td>0.183213</td>\n",
       "      <td>0.100</td>\n",
       "      <td>0.059524</td>\n",
       "      <td>0.208194</td>\n",
       "      <td>0.000000</td>\n",
       "      <td>0.020000</td>\n",
       "      <td>0.176389</td>\n",
       "      <td>0.181818</td>\n",
       "      <td>0.000000</td>\n",
       "      <td>1.0</td>\n",
       "    </tr>\n",
       "  </tbody>\n",
       "</table>\n",
       "</div>"
      ],
      "text/plain": [
       "          0         1         2         3         4      5         6  \\\n",
       "0  0.429412  0.195402  0.276753  0.097917  0.267870  0.080  0.084127   \n",
       "1  0.235294  0.106732  0.325250  0.191964  0.305312  0.000  0.306122   \n",
       "2  0.271895  0.032950  0.428536  0.055556  0.349218  0.040  0.217989   \n",
       "3  0.357843  0.067529  0.386993  0.010417  0.290614  0.075  0.206349   \n",
       "4  0.151961  0.126437  0.187269  0.005208  0.183213  0.100  0.059524   \n",
       "\n",
       "          7         8         9        10        11        12  R_cluster  \n",
       "0  0.339130  0.011111  0.212000  0.360833  0.181818  0.000000        0.0  \n",
       "1  0.387482  0.047619  0.205714  0.448810  0.000000  0.153846        0.0  \n",
       "2  0.415831  0.111111  0.037333  0.369444  0.272727  0.461538        0.0  \n",
       "3  0.373746  0.000000  0.090000  0.326042  0.090909  0.000000        0.0  \n",
       "4  0.208194  0.000000  0.020000  0.176389  0.181818  0.000000        1.0  "
      ]
     },
     "execution_count": 42,
     "metadata": {},
     "output_type": "execute_result"
    }
   ],
   "source": [
    "a = pd.concat([B_scaled,data_X[\"B_cluster\"]],axis=1)\n",
    "a2 = pd.concat([R_scaled,data_X[\"R_cluster\"]],axis=1)\n",
    "a.head()\n",
    "a2.head()"
   ]
  },
  {
   "cell_type": "markdown",
   "metadata": {},
   "source": [
    "#### 데이터가 0인경우에는  NaN 값이 발생하므로 0으로 바꿔준다"
   ]
  },
  {
   "cell_type": "code",
   "execution_count": 43,
   "metadata": {},
   "outputs": [],
   "source": [
    "a[np.isnan(a)] = 0\n",
    "a2[np.isnan(a2)]= 0"
   ]
  },
  {
   "cell_type": "markdown",
   "metadata": {},
   "source": [
    "###  선수들 정보만 모아놓은 데이터(player)로 fitting한 cluster를 각 Red, Blue에 적용시켰고\n",
    "### Red,Blue의 클러스터별 특징을 파악하기 위한 시각화\n",
    "###  선수 개개인의 타격형,그라운드형,MMA형인지를 분류"
   ]
  },
  {
   "cell_type": "code",
   "execution_count": 44,
   "metadata": {},
   "outputs": [
    {
     "data": {
      "text/plain": [
       "<matplotlib.axes._subplots.AxesSubplot at 0x21e022732c8>"
      ]
     },
     "execution_count": 44,
     "metadata": {},
     "output_type": "execute_result"
    },
    {
     "data": {
      "text/plain": [
       "<matplotlib.axes._subplots.AxesSubplot at 0x21e022732c8>"
      ]
     },
     "execution_count": 44,
     "metadata": {},
     "output_type": "execute_result"
    },
    {
     "data": {
      "text/plain": [
       "<matplotlib.axes._subplots.AxesSubplot at 0x21e022732c8>"
      ]
     },
     "execution_count": 44,
     "metadata": {},
     "output_type": "execute_result"
    },
    {
     "data": {
      "text/plain": [
       "<matplotlib.axes._subplots.AxesSubplot at 0x21e03275948>"
      ]
     },
     "execution_count": 44,
     "metadata": {},
     "output_type": "execute_result"
    },
    {
     "data": {
      "text/plain": [
       "<matplotlib.axes._subplots.AxesSubplot at 0x21e03275948>"
      ]
     },
     "execution_count": 44,
     "metadata": {},
     "output_type": "execute_result"
    },
    {
     "data": {
      "text/plain": [
       "<matplotlib.axes._subplots.AxesSubplot at 0x21e03275948>"
      ]
     },
     "execution_count": 44,
     "metadata": {},
     "output_type": "execute_result"
    },
    {
     "data": {
      "text/plain": [
       "<matplotlib.axes._subplots.AxesSubplot at 0x21e032a7b08>"
      ]
     },
     "execution_count": 44,
     "metadata": {},
     "output_type": "execute_result"
    },
    {
     "data": {
      "text/plain": [
       "<matplotlib.axes._subplots.AxesSubplot at 0x21e032a7b08>"
      ]
     },
     "execution_count": 44,
     "metadata": {},
     "output_type": "execute_result"
    },
    {
     "data": {
      "text/plain": [
       "<matplotlib.axes._subplots.AxesSubplot at 0x21e032a7b08>"
      ]
     },
     "execution_count": 44,
     "metadata": {},
     "output_type": "execute_result"
    },
    {
     "data": {
      "text/plain": [
       "<matplotlib.axes._subplots.AxesSubplot at 0x21e032e2588>"
      ]
     },
     "execution_count": 44,
     "metadata": {},
     "output_type": "execute_result"
    },
    {
     "data": {
      "text/plain": [
       "<matplotlib.axes._subplots.AxesSubplot at 0x21e032e2588>"
      ]
     },
     "execution_count": 44,
     "metadata": {},
     "output_type": "execute_result"
    },
    {
     "data": {
      "text/plain": [
       "<matplotlib.axes._subplots.AxesSubplot at 0x21e032e2588>"
      ]
     },
     "execution_count": 44,
     "metadata": {},
     "output_type": "execute_result"
    },
    {
     "data": {
      "text/plain": [
       "<matplotlib.axes._subplots.AxesSubplot at 0x21e0331a508>"
      ]
     },
     "execution_count": 44,
     "metadata": {},
     "output_type": "execute_result"
    },
    {
     "data": {
      "text/plain": [
       "<matplotlib.axes._subplots.AxesSubplot at 0x21e0331a508>"
      ]
     },
     "execution_count": 44,
     "metadata": {},
     "output_type": "execute_result"
    },
    {
     "data": {
      "text/plain": [
       "<matplotlib.axes._subplots.AxesSubplot at 0x21e0331a508>"
      ]
     },
     "execution_count": 44,
     "metadata": {},
     "output_type": "execute_result"
    },
    {
     "data": {
      "text/plain": [
       "<matplotlib.axes._subplots.AxesSubplot at 0x21e03351508>"
      ]
     },
     "execution_count": 44,
     "metadata": {},
     "output_type": "execute_result"
    },
    {
     "data": {
      "text/plain": [
       "<matplotlib.axes._subplots.AxesSubplot at 0x21e03351508>"
      ]
     },
     "execution_count": 44,
     "metadata": {},
     "output_type": "execute_result"
    },
    {
     "data": {
      "text/plain": [
       "<matplotlib.axes._subplots.AxesSubplot at 0x21e03351508>"
      ]
     },
     "execution_count": 44,
     "metadata": {},
     "output_type": "execute_result"
    },
    {
     "data": {
      "text/plain": [
       "<matplotlib.axes._subplots.AxesSubplot at 0x21e0338a108>"
      ]
     },
     "execution_count": 44,
     "metadata": {},
     "output_type": "execute_result"
    },
    {
     "data": {
      "text/plain": [
       "<matplotlib.axes._subplots.AxesSubplot at 0x21e0338a108>"
      ]
     },
     "execution_count": 44,
     "metadata": {},
     "output_type": "execute_result"
    },
    {
     "data": {
      "text/plain": [
       "<matplotlib.axes._subplots.AxesSubplot at 0x21e0338a108>"
      ]
     },
     "execution_count": 44,
     "metadata": {},
     "output_type": "execute_result"
    },
    {
     "data": {
      "text/plain": [
       "<matplotlib.axes._subplots.AxesSubplot at 0x21e033c7fc8>"
      ]
     },
     "execution_count": 44,
     "metadata": {},
     "output_type": "execute_result"
    },
    {
     "data": {
      "text/plain": [
       "<matplotlib.axes._subplots.AxesSubplot at 0x21e033c7fc8>"
      ]
     },
     "execution_count": 44,
     "metadata": {},
     "output_type": "execute_result"
    },
    {
     "data": {
      "text/plain": [
       "<matplotlib.axes._subplots.AxesSubplot at 0x21e033c7fc8>"
      ]
     },
     "execution_count": 44,
     "metadata": {},
     "output_type": "execute_result"
    },
    {
     "data": {
      "text/plain": [
       "<matplotlib.axes._subplots.AxesSubplot at 0x21e033fa188>"
      ]
     },
     "execution_count": 44,
     "metadata": {},
     "output_type": "execute_result"
    },
    {
     "data": {
      "text/plain": [
       "<matplotlib.axes._subplots.AxesSubplot at 0x21e033fa188>"
      ]
     },
     "execution_count": 44,
     "metadata": {},
     "output_type": "execute_result"
    },
    {
     "data": {
      "text/plain": [
       "<matplotlib.axes._subplots.AxesSubplot at 0x21e033fa188>"
      ]
     },
     "execution_count": 44,
     "metadata": {},
     "output_type": "execute_result"
    },
    {
     "data": {
      "text/plain": [
       "<matplotlib.axes._subplots.AxesSubplot at 0x21e0343f1c8>"
      ]
     },
     "execution_count": 44,
     "metadata": {},
     "output_type": "execute_result"
    },
    {
     "data": {
      "text/plain": [
       "<matplotlib.axes._subplots.AxesSubplot at 0x21e0343f1c8>"
      ]
     },
     "execution_count": 44,
     "metadata": {},
     "output_type": "execute_result"
    },
    {
     "data": {
      "text/plain": [
       "<matplotlib.axes._subplots.AxesSubplot at 0x21e0343f1c8>"
      ]
     },
     "execution_count": 44,
     "metadata": {},
     "output_type": "execute_result"
    },
    {
     "data": {
      "text/plain": [
       "<matplotlib.axes._subplots.AxesSubplot at 0x21e03476188>"
      ]
     },
     "execution_count": 44,
     "metadata": {},
     "output_type": "execute_result"
    },
    {
     "data": {
      "text/plain": [
       "<matplotlib.axes._subplots.AxesSubplot at 0x21e03476188>"
      ]
     },
     "execution_count": 44,
     "metadata": {},
     "output_type": "execute_result"
    },
    {
     "data": {
      "text/plain": [
       "<matplotlib.axes._subplots.AxesSubplot at 0x21e03476188>"
      ]
     },
     "execution_count": 44,
     "metadata": {},
     "output_type": "execute_result"
    },
    {
     "data": {
      "text/plain": [
       "<matplotlib.axes._subplots.AxesSubplot at 0x21e034b01c8>"
      ]
     },
     "execution_count": 44,
     "metadata": {},
     "output_type": "execute_result"
    },
    {
     "data": {
      "text/plain": [
       "<matplotlib.axes._subplots.AxesSubplot at 0x21e034b01c8>"
      ]
     },
     "execution_count": 44,
     "metadata": {},
     "output_type": "execute_result"
    },
    {
     "data": {
      "text/plain": [
       "<matplotlib.axes._subplots.AxesSubplot at 0x21e034b01c8>"
      ]
     },
     "execution_count": 44,
     "metadata": {},
     "output_type": "execute_result"
    },
    {
     "data": {
      "image/png": "[encoded data removed]",
      "text/plain": [
       "<Figure size 1116x540 with 12 Axes>"
      ]
     },
     "metadata": {
      "needs_background": "light"
     },
     "output_type": "display_data"
    }
   ],
   "source": [
    "f, axes = plt.subplots(3, 4, figsize=(15.5, 7.5), sharex=True)\n",
    "k = [0,1,2,3,4,5,6,7,8,9,10,11]\n",
    "i = [0,0,0,0,1,1,1,1,2,2,2,2]\n",
    "\n",
    "j = [0,1,2,3,0,1,2,3,0,1,2,3]\n",
    "for k,i,j in zip(k,i,j):\n",
    "    sns.distplot(a[a[\"B_cluster\"]==0][a.columns[k]],  color=\"blue\", axlabel=col2[k],norm_hist=True, kde_kws = {'linewidth': 2}, ax = axes[i, j])\n",
    "    sns.distplot(a[a[\"B_cluster\"]==1][a.columns[k]],  color=\"red\", axlabel=col2[k],norm_hist=True, kde_kws = {'linewidth': 2}, ax = axes[i, j])\n",
    "    sns.distplot(a[a[\"B_cluster\"]==2][a.columns[k]],  color=\"yellow\", axlabel=col2[k],norm_hist=True, kde_kws = {'linewidth': 2}, ax = axes[i, j])"
   ]
  },
  {
   "cell_type": "code",
   "execution_count": 45,
   "metadata": {},
   "outputs": [
    {
     "data": {
      "text/plain": [
       "12"
      ]
     },
     "execution_count": 45,
     "metadata": {},
     "output_type": "execute_result"
    },
    {
     "data": {
      "text/plain": [
       "12"
      ]
     },
     "execution_count": 45,
     "metadata": {},
     "output_type": "execute_result"
    }
   ],
   "source": [
    "col = ['R_avg_BODY_att', 'R_avg_CLINCH_att', 'R_avg_DISTANCE_att', 'R_avg_GROUND_att', 'R_avg_HEAD_att', 'R_avg_KD', 'R_avg_LEG_att',\n",
    "       'R_avg_SIG_STR_att', 'R_avg_SUB_ATT', 'R_avg_TD_att', 'R_avg_TOTAL_STR_att', 'R_win_by_KO/TKO']\n",
    "col2 = ['BODY','CLINCH','DISTANCE','GROUND','HEAD','KD','LEG','SIGSTR','SUB','TD','TOTALSTR','WIN(T)KO']\n",
    "len(col2)\n",
    "len(col)"
   ]
  },
  {
   "cell_type": "code",
   "execution_count": 46,
   "metadata": {},
   "outputs": [
    {
     "data": {
      "text/plain": [
       "<matplotlib.axes._subplots.AxesSubplot at 0x21e044dde88>"
      ]
     },
     "execution_count": 46,
     "metadata": {},
     "output_type": "execute_result"
    },
    {
     "data": {
      "text/plain": [
       "<matplotlib.axes._subplots.AxesSubplot at 0x21e044dde88>"
      ]
     },
     "execution_count": 46,
     "metadata": {},
     "output_type": "execute_result"
    },
    {
     "data": {
      "text/plain": [
       "<matplotlib.axes._subplots.AxesSubplot at 0x21e044dde88>"
      ]
     },
     "execution_count": 46,
     "metadata": {},
     "output_type": "execute_result"
    },
    {
     "data": {
      "text/plain": [
       "<matplotlib.axes._subplots.AxesSubplot at 0x21e0440fc08>"
      ]
     },
     "execution_count": 46,
     "metadata": {},
     "output_type": "execute_result"
    },
    {
     "data": {
      "text/plain": [
       "<matplotlib.axes._subplots.AxesSubplot at 0x21e0440fc08>"
      ]
     },
     "execution_count": 46,
     "metadata": {},
     "output_type": "execute_result"
    },
    {
     "data": {
      "text/plain": [
       "<matplotlib.axes._subplots.AxesSubplot at 0x21e0440fc08>"
      ]
     },
     "execution_count": 46,
     "metadata": {},
     "output_type": "execute_result"
    },
    {
     "data": {
      "text/plain": [
       "<matplotlib.axes._subplots.AxesSubplot at 0x21e045d4b48>"
      ]
     },
     "execution_count": 46,
     "metadata": {},
     "output_type": "execute_result"
    },
    {
     "data": {
      "text/plain": [
       "<matplotlib.axes._subplots.AxesSubplot at 0x21e045d4b48>"
      ]
     },
     "execution_count": 46,
     "metadata": {},
     "output_type": "execute_result"
    },
    {
     "data": {
      "text/plain": [
       "<matplotlib.axes._subplots.AxesSubplot at 0x21e045d4b48>"
      ]
     },
     "execution_count": 46,
     "metadata": {},
     "output_type": "execute_result"
    },
    {
     "data": {
      "text/plain": [
       "<matplotlib.axes._subplots.AxesSubplot at 0x21e045ed248>"
      ]
     },
     "execution_count": 46,
     "metadata": {},
     "output_type": "execute_result"
    },
    {
     "data": {
      "text/plain": [
       "<matplotlib.axes._subplots.AxesSubplot at 0x21e045ed248>"
      ]
     },
     "execution_count": 46,
     "metadata": {},
     "output_type": "execute_result"
    },
    {
     "data": {
      "text/plain": [
       "<matplotlib.axes._subplots.AxesSubplot at 0x21e045ed248>"
      ]
     },
     "execution_count": 46,
     "metadata": {},
     "output_type": "execute_result"
    },
    {
     "data": {
      "text/plain": [
       "<matplotlib.axes._subplots.AxesSubplot at 0x21e04122b48>"
      ]
     },
     "execution_count": 46,
     "metadata": {},
     "output_type": "execute_result"
    },
    {
     "data": {
      "text/plain": [
       "<matplotlib.axes._subplots.AxesSubplot at 0x21e04122b48>"
      ]
     },
     "execution_count": 46,
     "metadata": {},
     "output_type": "execute_result"
    },
    {
     "data": {
      "text/plain": [
       "<matplotlib.axes._subplots.AxesSubplot at 0x21e04122b48>"
      ]
     },
     "execution_count": 46,
     "metadata": {},
     "output_type": "execute_result"
    },
    {
     "data": {
      "text/plain": [
       "<matplotlib.axes._subplots.AxesSubplot at 0x21e0413a488>"
      ]
     },
     "execution_count": 46,
     "metadata": {},
     "output_type": "execute_result"
    },
    {
     "data": {
      "text/plain": [
       "<matplotlib.axes._subplots.AxesSubplot at 0x21e0413a488>"
      ]
     },
     "execution_count": 46,
     "metadata": {},
     "output_type": "execute_result"
    },
    {
     "data": {
      "text/plain": [
       "<matplotlib.axes._subplots.AxesSubplot at 0x21e0413a488>"
      ]
     },
     "execution_count": 46,
     "metadata": {},
     "output_type": "execute_result"
    },
    {
     "data": {
      "text/plain": [
       "<matplotlib.axes._subplots.AxesSubplot at 0x21e041557c8>"
      ]
     },
     "execution_count": 46,
     "metadata": {},
     "output_type": "execute_result"
    },
    {
     "data": {
      "text/plain": [
       "<matplotlib.axes._subplots.AxesSubplot at 0x21e041557c8>"
      ]
     },
     "execution_count": 46,
     "metadata": {},
     "output_type": "execute_result"
    },
    {
     "data": {
      "text/plain": [
       "<matplotlib.axes._subplots.AxesSubplot at 0x21e041557c8>"
      ]
     },
     "execution_count": 46,
     "metadata": {},
     "output_type": "execute_result"
    },
    {
     "data": {
      "text/plain": [
       "<matplotlib.axes._subplots.AxesSubplot at 0x21e0417cd48>"
      ]
     },
     "execution_count": 46,
     "metadata": {},
     "output_type": "execute_result"
    },
    {
     "data": {
      "text/plain": [
       "<matplotlib.axes._subplots.AxesSubplot at 0x21e0417cd48>"
      ]
     },
     "execution_count": 46,
     "metadata": {},
     "output_type": "execute_result"
    },
    {
     "data": {
      "text/plain": [
       "<matplotlib.axes._subplots.AxesSubplot at 0x21e0417cd48>"
      ]
     },
     "execution_count": 46,
     "metadata": {},
     "output_type": "execute_result"
    },
    {
     "data": {
      "text/plain": [
       "<matplotlib.axes._subplots.AxesSubplot at 0x21e041b5988>"
      ]
     },
     "execution_count": 46,
     "metadata": {},
     "output_type": "execute_result"
    },
    {
     "data": {
      "text/plain": [
       "<matplotlib.axes._subplots.AxesSubplot at 0x21e041b5988>"
      ]
     },
     "execution_count": 46,
     "metadata": {},
     "output_type": "execute_result"
    },
    {
     "data": {
      "text/plain": [
       "<matplotlib.axes._subplots.AxesSubplot at 0x21e041b5988>"
      ]
     },
     "execution_count": 46,
     "metadata": {},
     "output_type": "execute_result"
    },
    {
     "data": {
      "text/plain": [
       "<matplotlib.axes._subplots.AxesSubplot at 0x21e041fa9c8>"
      ]
     },
     "execution_count": 46,
     "metadata": {},
     "output_type": "execute_result"
    },
    {
     "data": {
      "text/plain": [
       "<matplotlib.axes._subplots.AxesSubplot at 0x21e041fa9c8>"
      ]
     },
     "execution_count": 46,
     "metadata": {},
     "output_type": "execute_result"
    },
    {
     "data": {
      "text/plain": [
       "<matplotlib.axes._subplots.AxesSubplot at 0x21e041fa9c8>"
      ]
     },
     "execution_count": 46,
     "metadata": {},
     "output_type": "execute_result"
    },
    {
     "data": {
      "text/plain": [
       "<matplotlib.axes._subplots.AxesSubplot at 0x21e04231a08>"
      ]
     },
     "execution_count": 46,
     "metadata": {},
     "output_type": "execute_result"
    },
    {
     "data": {
      "text/plain": [
       "<matplotlib.axes._subplots.AxesSubplot at 0x21e04231a08>"
      ]
     },
     "execution_count": 46,
     "metadata": {},
     "output_type": "execute_result"
    },
    {
     "data": {
      "text/plain": [
       "<matplotlib.axes._subplots.AxesSubplot at 0x21e04231a08>"
      ]
     },
     "execution_count": 46,
     "metadata": {},
     "output_type": "execute_result"
    },
    {
     "data": {
      "text/plain": [
       "<matplotlib.axes._subplots.AxesSubplot at 0x21e04269a48>"
      ]
     },
     "execution_count": 46,
     "metadata": {},
     "output_type": "execute_result"
    },
    {
     "data": {
      "text/plain": [
       "<matplotlib.axes._subplots.AxesSubplot at 0x21e04269a48>"
      ]
     },
     "execution_count": 46,
     "metadata": {},
     "output_type": "execute_result"
    },
    {
     "data": {
      "text/plain": [
       "<matplotlib.axes._subplots.AxesSubplot at 0x21e04269a48>"
      ]
     },
     "execution_count": 46,
     "metadata": {},
     "output_type": "execute_result"
    },
    {
     "data": {
      "image/png": "[encoded data removed]",
      "text/plain": [
       "<Figure size 1116x540 with 12 Axes>"
      ]
     },
     "metadata": {
      "needs_background": "light"
     },
     "output_type": "display_data"
    }
   ],
   "source": [
    "f, axes = plt.subplots(3, 4, figsize=(15.5, 7.5), sharex=True)\n",
    "k = [0,1,2,3,4,5,6,7,8,9,10,11]\n",
    "i = [0,0,0,0,1,1,1,1,2,2,2,2]\n",
    "\n",
    "j = [0,1,2,3,0,1,2,3,0,1,2,3]\n",
    "for k,i,j in zip(k,i,j):\n",
    "    sns.distplot(a2[a2[\"R_cluster\"]==0][a2.columns[k]],  color=\"blue\", axlabel=col2[k],hist=True, kde_kws = {'linewidth': 2}, ax = axes[i, j])\n",
    "    sns.distplot(a2[a2[\"R_cluster\"]==1][a2.columns[k]],  color=\"red\", axlabel=col2[k],hist=True, kde_kws = {'linewidth': 2}, ax = axes[i, j])\n",
    "    sns.distplot(a2[a2[\"R_cluster\"]==2][a2.columns[k]],  color=\"yellow\", axlabel=col2[k],hist=True, kde_kws = {'linewidth': 2}, ax = axes[i, j])"
   ]
  },
  {
   "cell_type": "markdown",
   "metadata": {},
   "source": [
    "### Feature Engineering (2) - PCA"
   ]
  },
  {
   "cell_type": "markdown",
   "metadata": {},
   "source": [
    "###  Diminishing Dimension using Principal Component Analysis\n",
    "#### 앞선 클러스터링 때 했던 방식처럼 Red , Blue 합친데이터인  player로 fitting한 후 \n",
    "#### 원 데이터에서 Red, Blue 독립적으로 PCA(주성분 분석) 적용"
   ]
  },
  {
   "cell_type": "markdown",
   "metadata": {},
   "source": [
    "#### data_X(모델링에 쓸 데이터)가 아닌 data(원 데이터)에서 컬럼들을 추출해온다.\n",
    "#### 이유는 앞에서 data_X에 win_by column이 포함되어있지 않기 때문이다."
   ]
  },
  {
   "cell_type": "code",
   "execution_count": 47,
   "metadata": {},
   "outputs": [
    {
     "data": {
      "text/plain": [
       "'B_win_by_Decision_Majority'"
      ]
     },
     "execution_count": 47,
     "metadata": {},
     "output_type": "execute_result"
    },
    {
     "data": {
      "text/plain": [
       "'B_wins'"
      ]
     },
     "execution_count": 47,
     "metadata": {},
     "output_type": "execute_result"
    },
    {
     "data": {
      "text/html": [
       "<div>\n",
       "<style scoped>\n",
       "    .dataframe tbody tr th:only-of-type {\n",
       "        vertical-align: middle;\n",
       "    }\n",
       "\n",
       "    .dataframe tbody tr th {\n",
       "        vertical-align: top;\n",
       "    }\n",
       "\n",
       "    .dataframe thead th {\n",
       "        text-align: right;\n",
       "    }\n",
       "</style>\n",
       "<table border=\"1\" class=\"dataframe\">\n",
       "  <thead>\n",
       "    <tr style=\"text-align: right;\">\n",
       "      <th></th>\n",
       "      <th>B_win_by_Decision_Majority</th>\n",
       "      <th>B_win_by_Decision_Split</th>\n",
       "      <th>B_win_by_Decision_Unanimous</th>\n",
       "      <th>B_win_by_KO/TKO</th>\n",
       "      <th>B_win_by_Submission</th>\n",
       "      <th>B_win_by_TKO_Doctor_Stoppage</th>\n",
       "    </tr>\n",
       "  </thead>\n",
       "  <tbody>\n",
       "    <tr>\n",
       "      <td>0</td>\n",
       "      <td>0</td>\n",
       "      <td>1</td>\n",
       "      <td>0</td>\n",
       "      <td>2</td>\n",
       "      <td>1</td>\n",
       "      <td>0</td>\n",
       "    </tr>\n",
       "    <tr>\n",
       "      <td>1</td>\n",
       "      <td>0</td>\n",
       "      <td>2</td>\n",
       "      <td>1</td>\n",
       "      <td>0</td>\n",
       "      <td>0</td>\n",
       "      <td>1</td>\n",
       "    </tr>\n",
       "    <tr>\n",
       "      <td>2</td>\n",
       "      <td>0</td>\n",
       "      <td>0</td>\n",
       "      <td>7</td>\n",
       "      <td>10</td>\n",
       "      <td>6</td>\n",
       "      <td>0</td>\n",
       "    </tr>\n",
       "    <tr>\n",
       "      <td>3</td>\n",
       "      <td>0</td>\n",
       "      <td>0</td>\n",
       "      <td>2</td>\n",
       "      <td>2</td>\n",
       "      <td>0</td>\n",
       "      <td>0</td>\n",
       "    </tr>\n",
       "    <tr>\n",
       "      <td>4</td>\n",
       "      <td>0</td>\n",
       "      <td>0</td>\n",
       "      <td>1</td>\n",
       "      <td>0</td>\n",
       "      <td>0</td>\n",
       "      <td>0</td>\n",
       "    </tr>\n",
       "  </tbody>\n",
       "</table>\n",
       "</div>"
      ],
      "text/plain": [
       "   B_win_by_Decision_Majority  B_win_by_Decision_Split  \\\n",
       "0                           0                        1   \n",
       "1                           0                        2   \n",
       "2                           0                        0   \n",
       "3                           0                        0   \n",
       "4                           0                        0   \n",
       "\n",
       "   B_win_by_Decision_Unanimous  B_win_by_KO/TKO  B_win_by_Submission  \\\n",
       "0                            0                2                    1   \n",
       "1                            1                0                    0   \n",
       "2                            7               10                    6   \n",
       "3                            2                2                    0   \n",
       "4                            1                0                    0   \n",
       "\n",
       "   B_win_by_TKO_Doctor_Stoppage  \n",
       "0                             0  \n",
       "1                             1  \n",
       "2                             0  \n",
       "3                             0  \n",
       "4                             0  "
      ]
     },
     "execution_count": 47,
     "metadata": {},
     "output_type": "execute_result"
    }
   ],
   "source": [
    "data.columns[65]\n",
    "data.columns[71]\n",
    "Bwin = data[data.columns[65:71]]\n",
    "Bwin.head()"
   ]
  },
  {
   "cell_type": "code",
   "execution_count": 48,
   "metadata": {},
   "outputs": [
    {
     "data": {
      "text/plain": [
       "'R_win_by_Decision_Majority'"
      ]
     },
     "execution_count": 48,
     "metadata": {},
     "output_type": "execute_result"
    },
    {
     "data": {
      "text/plain": [
       "'R_wins'"
      ]
     },
     "execution_count": 48,
     "metadata": {},
     "output_type": "execute_result"
    },
    {
     "data": {
      "text/html": [
       "<div>\n",
       "<style scoped>\n",
       "    .dataframe tbody tr th:only-of-type {\n",
       "        vertical-align: middle;\n",
       "    }\n",
       "\n",
       "    .dataframe tbody tr th {\n",
       "        vertical-align: top;\n",
       "    }\n",
       "\n",
       "    .dataframe thead th {\n",
       "        text-align: right;\n",
       "    }\n",
       "</style>\n",
       "<table border=\"1\" class=\"dataframe\">\n",
       "  <thead>\n",
       "    <tr style=\"text-align: right;\">\n",
       "      <th></th>\n",
       "      <th>R_win_by_Decision_Majority</th>\n",
       "      <th>R_win_by_Decision_Split</th>\n",
       "      <th>R_win_by_Decision_Unanimous</th>\n",
       "      <th>R_win_by_KO/TKO</th>\n",
       "      <th>R_win_by_Submission</th>\n",
       "      <th>R_win_by_TKO_Doctor_Stoppage</th>\n",
       "    </tr>\n",
       "  </thead>\n",
       "  <tbody>\n",
       "    <tr>\n",
       "      <td>0</td>\n",
       "      <td>0</td>\n",
       "      <td>2</td>\n",
       "      <td>4</td>\n",
       "      <td>2</td>\n",
       "      <td>0</td>\n",
       "      <td>0</td>\n",
       "    </tr>\n",
       "    <tr>\n",
       "      <td>1</td>\n",
       "      <td>0</td>\n",
       "      <td>1</td>\n",
       "      <td>2</td>\n",
       "      <td>0</td>\n",
       "      <td>2</td>\n",
       "      <td>0</td>\n",
       "    </tr>\n",
       "    <tr>\n",
       "      <td>2</td>\n",
       "      <td>0</td>\n",
       "      <td>1</td>\n",
       "      <td>3</td>\n",
       "      <td>3</td>\n",
       "      <td>6</td>\n",
       "      <td>1</td>\n",
       "    </tr>\n",
       "    <tr>\n",
       "      <td>3</td>\n",
       "      <td>0</td>\n",
       "      <td>1</td>\n",
       "      <td>4</td>\n",
       "      <td>1</td>\n",
       "      <td>0</td>\n",
       "      <td>0</td>\n",
       "    </tr>\n",
       "    <tr>\n",
       "      <td>4</td>\n",
       "      <td>0</td>\n",
       "      <td>0</td>\n",
       "      <td>1</td>\n",
       "      <td>2</td>\n",
       "      <td>0</td>\n",
       "      <td>0</td>\n",
       "    </tr>\n",
       "  </tbody>\n",
       "</table>\n",
       "</div>"
      ],
      "text/plain": [
       "   R_win_by_Decision_Majority  R_win_by_Decision_Split  \\\n",
       "0                           0                        2   \n",
       "1                           0                        1   \n",
       "2                           0                        1   \n",
       "3                           0                        1   \n",
       "4                           0                        0   \n",
       "\n",
       "   R_win_by_Decision_Unanimous  R_win_by_KO/TKO  R_win_by_Submission  \\\n",
       "0                            4                2                    0   \n",
       "1                            2                0                    2   \n",
       "2                            3                3                    6   \n",
       "3                            4                1                    0   \n",
       "4                            1                2                    0   \n",
       "\n",
       "   R_win_by_TKO_Doctor_Stoppage  \n",
       "0                             0  \n",
       "1                             0  \n",
       "2                             1  \n",
       "3                             0  \n",
       "4                             0  "
      ]
     },
     "execution_count": 48,
     "metadata": {},
     "output_type": "execute_result"
    }
   ],
   "source": [
    "data.columns[132]\n",
    "data.columns[138]\n",
    "Rwin = data[data.columns[132:138]]\n",
    "Rwin.head()"
   ]
  },
  {
   "cell_type": "code",
   "execution_count": 49,
   "metadata": {},
   "outputs": [
    {
     "data": {
      "text/plain": [
       "'B_win_by_Decision_Majority'"
      ]
     },
     "execution_count": 49,
     "metadata": {},
     "output_type": "execute_result"
    },
    {
     "data": {
      "text/plain": [
       "'B_wins'"
      ]
     },
     "execution_count": 49,
     "metadata": {},
     "output_type": "execute_result"
    }
   ],
   "source": [
    "player.columns[57]\n",
    "player.columns[63]\n",
    "win = player[player.columns[57:63]] # win 컬럼 전까지 win_by만"
   ]
  },
  {
   "cell_type": "code",
   "execution_count": 50,
   "metadata": {},
   "outputs": [
    {
     "data": {
      "text/html": [
       "<div>\n",
       "<style scoped>\n",
       "    .dataframe tbody tr th:only-of-type {\n",
       "        vertical-align: middle;\n",
       "    }\n",
       "\n",
       "    .dataframe tbody tr th {\n",
       "        vertical-align: top;\n",
       "    }\n",
       "\n",
       "    .dataframe thead th {\n",
       "        text-align: right;\n",
       "    }\n",
       "</style>\n",
       "<table border=\"1\" class=\"dataframe\">\n",
       "  <thead>\n",
       "    <tr style=\"text-align: right;\">\n",
       "      <th></th>\n",
       "      <th>Majority</th>\n",
       "      <th>Split</th>\n",
       "      <th>Unanimous</th>\n",
       "      <th>KO/TKO</th>\n",
       "      <th>Submission</th>\n",
       "      <th>DoctorStop</th>\n",
       "    </tr>\n",
       "  </thead>\n",
       "  <tbody>\n",
       "    <tr>\n",
       "      <td>0</td>\n",
       "      <td>0.0</td>\n",
       "      <td>1.0</td>\n",
       "      <td>0.0</td>\n",
       "      <td>2.0</td>\n",
       "      <td>1.0</td>\n",
       "      <td>0.0</td>\n",
       "    </tr>\n",
       "    <tr>\n",
       "      <td>1</td>\n",
       "      <td>0.0</td>\n",
       "      <td>2.0</td>\n",
       "      <td>1.0</td>\n",
       "      <td>0.0</td>\n",
       "      <td>0.0</td>\n",
       "      <td>1.0</td>\n",
       "    </tr>\n",
       "    <tr>\n",
       "      <td>2</td>\n",
       "      <td>0.0</td>\n",
       "      <td>0.0</td>\n",
       "      <td>7.0</td>\n",
       "      <td>10.0</td>\n",
       "      <td>6.0</td>\n",
       "      <td>0.0</td>\n",
       "    </tr>\n",
       "    <tr>\n",
       "      <td>3</td>\n",
       "      <td>0.0</td>\n",
       "      <td>0.0</td>\n",
       "      <td>2.0</td>\n",
       "      <td>2.0</td>\n",
       "      <td>0.0</td>\n",
       "      <td>0.0</td>\n",
       "    </tr>\n",
       "    <tr>\n",
       "      <td>4</td>\n",
       "      <td>0.0</td>\n",
       "      <td>0.0</td>\n",
       "      <td>1.0</td>\n",
       "      <td>0.0</td>\n",
       "      <td>0.0</td>\n",
       "      <td>0.0</td>\n",
       "    </tr>\n",
       "  </tbody>\n",
       "</table>\n",
       "</div>"
      ],
      "text/plain": [
       "   Majority  Split  Unanimous  KO/TKO  Submission  DoctorStop\n",
       "0       0.0    1.0        0.0     2.0         1.0         0.0\n",
       "1       0.0    2.0        1.0     0.0         0.0         1.0\n",
       "2       0.0    0.0        7.0    10.0         6.0         0.0\n",
       "3       0.0    0.0        2.0     2.0         0.0         0.0\n",
       "4       0.0    0.0        1.0     0.0         0.0         0.0"
      ]
     },
     "execution_count": 50,
     "metadata": {},
     "output_type": "execute_result"
    }
   ],
   "source": [
    "win.rename(columns = {win.columns[0] : \"Majority\",\n",
    "                      win.columns[1] : \"Split\",\n",
    "                      win.columns[2] : \"Unanimous\",\n",
    "                      win.columns[3] : \"KO/TKO\",\n",
    "                      win.columns[4] : \"Submission\",\n",
    "                      win.columns[5] : \"DoctorStop\"}, inplace=True)\n",
    "win.head()"
   ]
  },
  {
   "cell_type": "markdown",
   "metadata": {},
   "source": [
    "## Scatter Plot of Win_by Columns"
   ]
  },
  {
   "cell_type": "code",
   "execution_count": 51,
   "metadata": {},
   "outputs": [
    {
     "data": {
      "text/html": [
       "<div>\n",
       "<style scoped>\n",
       "    .dataframe tbody tr th:only-of-type {\n",
       "        vertical-align: middle;\n",
       "    }\n",
       "\n",
       "    .dataframe tbody tr th {\n",
       "        vertical-align: top;\n",
       "    }\n",
       "\n",
       "    .dataframe thead th {\n",
       "        text-align: right;\n",
       "    }\n",
       "</style>\n",
       "<table border=\"1\" class=\"dataframe\">\n",
       "  <thead>\n",
       "    <tr style=\"text-align: right;\">\n",
       "      <th></th>\n",
       "      <th>Majority</th>\n",
       "      <th>Split</th>\n",
       "      <th>Unanimous</th>\n",
       "      <th>KO/TKO</th>\n",
       "      <th>Submission</th>\n",
       "      <th>DoctorStop</th>\n",
       "      <th>B_wins</th>\n",
       "    </tr>\n",
       "  </thead>\n",
       "  <tbody>\n",
       "    <tr>\n",
       "      <td>0</td>\n",
       "      <td>0.0</td>\n",
       "      <td>1.0</td>\n",
       "      <td>0.0</td>\n",
       "      <td>2.0</td>\n",
       "      <td>1.0</td>\n",
       "      <td>0.0</td>\n",
       "      <td>4.0</td>\n",
       "    </tr>\n",
       "    <tr>\n",
       "      <td>1</td>\n",
       "      <td>0.0</td>\n",
       "      <td>2.0</td>\n",
       "      <td>1.0</td>\n",
       "      <td>0.0</td>\n",
       "      <td>0.0</td>\n",
       "      <td>1.0</td>\n",
       "      <td>4.0</td>\n",
       "    </tr>\n",
       "    <tr>\n",
       "      <td>2</td>\n",
       "      <td>0.0</td>\n",
       "      <td>0.0</td>\n",
       "      <td>7.0</td>\n",
       "      <td>10.0</td>\n",
       "      <td>6.0</td>\n",
       "      <td>0.0</td>\n",
       "      <td>23.0</td>\n",
       "    </tr>\n",
       "    <tr>\n",
       "      <td>3</td>\n",
       "      <td>0.0</td>\n",
       "      <td>0.0</td>\n",
       "      <td>2.0</td>\n",
       "      <td>2.0</td>\n",
       "      <td>0.0</td>\n",
       "      <td>0.0</td>\n",
       "      <td>4.0</td>\n",
       "    </tr>\n",
       "    <tr>\n",
       "      <td>4</td>\n",
       "      <td>0.0</td>\n",
       "      <td>0.0</td>\n",
       "      <td>1.0</td>\n",
       "      <td>0.0</td>\n",
       "      <td>0.0</td>\n",
       "      <td>0.0</td>\n",
       "      <td>1.0</td>\n",
       "    </tr>\n",
       "  </tbody>\n",
       "</table>\n",
       "</div>"
      ],
      "text/plain": [
       "   Majority  Split  Unanimous  KO/TKO  Submission  DoctorStop  B_wins\n",
       "0       0.0    1.0        0.0     2.0         1.0         0.0     4.0\n",
       "1       0.0    2.0        1.0     0.0         0.0         1.0     4.0\n",
       "2       0.0    0.0        7.0    10.0         6.0         0.0    23.0\n",
       "3       0.0    0.0        2.0     2.0         0.0         0.0     4.0\n",
       "4       0.0    0.0        1.0     0.0         0.0         0.0     1.0"
      ]
     },
     "execution_count": 51,
     "metadata": {},
     "output_type": "execute_result"
    }
   ],
   "source": [
    "sctwin = pd.concat([win,player[\"B_wins\"]],axis=1)\n",
    "sctwin.head()"
   ]
  },
  {
   "cell_type": "code",
   "execution_count": 52,
   "metadata": {},
   "outputs": [
    {
     "data": {
      "text/plain": [
       "<matplotlib.axes._subplots.AxesSubplot at 0x21e057448c8>"
      ]
     },
     "execution_count": 52,
     "metadata": {},
     "output_type": "execute_result"
    },
    {
     "data": {
      "text/plain": [
       "Text(0.5, 1.0, 'TotalWin ~ Majority')"
      ]
     },
     "execution_count": 52,
     "metadata": {},
     "output_type": "execute_result"
    },
    {
     "data": {
      "text/plain": [
       "Text(0.5, 0, 'Majority')"
      ]
     },
     "execution_count": 52,
     "metadata": {},
     "output_type": "execute_result"
    },
    {
     "data": {
      "text/plain": [
       "Text(0, 0.5, 'TotalWin')"
      ]
     },
     "execution_count": 52,
     "metadata": {},
     "output_type": "execute_result"
    },
    {
     "data": {
      "image/png": "[encoded data removed]",
      "text/plain": [
       "<Figure size 432x288 with 1 Axes>"
      ]
     },
     "metadata": {
      "needs_background": "light"
     },
     "output_type": "display_data"
    }
   ],
   "source": [
    "sns.regplot(x=\"Majority\",  y=\"B_wins\", data=sctwin,scatter_kws={\"color\": \"black\"}, line_kws={\"color\": \"red\"},fit_reg=True)\n",
    "plt.title('TotalWin ~ Majority', fontsize=20)\n",
    "plt.xlabel('Majority', fontsize=14)\n",
    "plt.ylabel('TotalWin', fontsize=14)\n",
    "plt.show()"
   ]
  },
  {
   "cell_type": "code",
   "execution_count": 53,
   "metadata": {},
   "outputs": [
    {
     "data": {
      "text/plain": [
       "<matplotlib.axes._subplots.AxesSubplot at 0x21e056de848>"
      ]
     },
     "execution_count": 53,
     "metadata": {},
     "output_type": "execute_result"
    },
    {
     "data": {
      "text/plain": [
       "Text(0.5, 1.0, 'TotalWin ~ Split')"
      ]
     },
     "execution_count": 53,
     "metadata": {},
     "output_type": "execute_result"
    },
    {
     "data": {
      "text/plain": [
       "Text(0.5, 0, 'Split')"
      ]
     },
     "execution_count": 53,
     "metadata": {},
     "output_type": "execute_result"
    },
    {
     "data": {
      "text/plain": [
       "Text(0, 0.5, 'TotalWin')"
      ]
     },
     "execution_count": 53,
     "metadata": {},
     "output_type": "execute_result"
    },
    {
     "data": {
      "image/png": "[encoded data removed]",
      "text/plain": [
       "<Figure size 432x288 with 1 Axes>"
      ]
     },
     "metadata": {
      "needs_background": "light"
     },
     "output_type": "display_data"
    }
   ],
   "source": [
    "sns.regplot(x=\"Split\",  y=\"B_wins\", data= sctwin,scatter_kws={\"color\": \"black\"}, line_kws={\"color\": \"red\"},fit_reg=True)\n",
    "plt.title('TotalWin ~ Split', fontsize=20)\n",
    "plt.xlabel('Split', fontsize=14)\n",
    "plt.ylabel('TotalWin', fontsize=14)\n",
    "plt.show()"
   ]
  },
  {
   "cell_type": "code",
   "execution_count": 54,
   "metadata": {},
   "outputs": [
    {
     "data": {
      "text/plain": [
       "<matplotlib.axes._subplots.AxesSubplot at 0x21e053efc88>"
      ]
     },
     "execution_count": 54,
     "metadata": {},
     "output_type": "execute_result"
    },
    {
     "data": {
      "text/plain": [
       "Text(0.5, 1.0, 'TotalWin ~ Unanimous')"
      ]
     },
     "execution_count": 54,
     "metadata": {},
     "output_type": "execute_result"
    },
    {
     "data": {
      "text/plain": [
       "Text(0.5, 0, 'Unanimous')"
      ]
     },
     "execution_count": 54,
     "metadata": {},
     "output_type": "execute_result"
    },
    {
     "data": {
      "text/plain": [
       "Text(0, 0.5, 'TotalWin')"
      ]
     },
     "execution_count": 54,
     "metadata": {},
     "output_type": "execute_result"
    },
    {
     "data": {
      "image/png": "[encoded data removed]",
      "text/plain": [
       "<Figure size 432x288 with 1 Axes>"
      ]
     },
     "metadata": {
      "needs_background": "light"
     },
     "output_type": "display_data"
    }
   ],
   "source": [
    "sns.regplot(x=\"Unanimous\",  y=\"B_wins\",data=sctwin,scatter_kws={\"color\": \"black\"}, line_kws={\"color\": \"red\"},fit_reg=True)\n",
    "plt.title('TotalWin ~ Unanimous', fontsize=20)\n",
    "plt.xlabel('Unanimous', fontsize=14)\n",
    "plt.ylabel('TotalWin', fontsize=14)\n",
    "plt.show()"
   ]
  },
  {
   "cell_type": "code",
   "execution_count": 55,
   "metadata": {},
   "outputs": [
    {
     "data": {
      "text/plain": [
       "<matplotlib.axes._subplots.AxesSubplot at 0x21e01c24248>"
      ]
     },
     "execution_count": 55,
     "metadata": {},
     "output_type": "execute_result"
    },
    {
     "data": {
      "text/plain": [
       "Text(0.5, 1.0, 'TotalWin ~ KO/TKO ')"
      ]
     },
     "execution_count": 55,
     "metadata": {},
     "output_type": "execute_result"
    },
    {
     "data": {
      "text/plain": [
       "Text(0.5, 0, 'KO/TKO')"
      ]
     },
     "execution_count": 55,
     "metadata": {},
     "output_type": "execute_result"
    },
    {
     "data": {
      "text/plain": [
       "Text(0, 0.5, 'TotalWin')"
      ]
     },
     "execution_count": 55,
     "metadata": {},
     "output_type": "execute_result"
    },
    {
     "data": {
      "image/png": "[encoded data removed]",
      "text/plain": [
       "<Figure size 432x288 with 1 Axes>"
      ]
     },
     "metadata": {
      "needs_background": "light"
     },
     "output_type": "display_data"
    }
   ],
   "source": [
    "sns.regplot(x=\"KO/TKO\",  y=\"B_wins\",data=sctwin,scatter_kws={\"color\": \"black\"}, line_kws={\"color\": \"red\"},fit_reg=True)\n",
    "plt.title('TotalWin ~ KO/TKO ', fontsize=20)\n",
    "plt.xlabel('KO/TKO', fontsize=14)\n",
    "plt.ylabel('TotalWin', fontsize=14)\n",
    "plt.show()"
   ]
  },
  {
   "cell_type": "code",
   "execution_count": 56,
   "metadata": {},
   "outputs": [
    {
     "data": {
      "text/plain": [
       "<matplotlib.axes._subplots.AxesSubplot at 0x21e05418108>"
      ]
     },
     "execution_count": 56,
     "metadata": {},
     "output_type": "execute_result"
    },
    {
     "data": {
      "text/plain": [
       "Text(0.5, 1.0, 'TotalWin ~ Submission')"
      ]
     },
     "execution_count": 56,
     "metadata": {},
     "output_type": "execute_result"
    },
    {
     "data": {
      "text/plain": [
       "Text(0.5, 0, 'Split')"
      ]
     },
     "execution_count": 56,
     "metadata": {},
     "output_type": "execute_result"
    },
    {
     "data": {
      "text/plain": [
       "Text(0, 0.5, 'TotalWin')"
      ]
     },
     "execution_count": 56,
     "metadata": {},
     "output_type": "execute_result"
    },
    {
     "data": {
      "image/png": "[encoded data removed]",
      "text/plain": [
       "<Figure size 432x288 with 1 Axes>"
      ]
     },
     "metadata": {
      "needs_background": "light"
     },
     "output_type": "display_data"
    }
   ],
   "source": [
    "sns.regplot(x=\"Submission\",  y=\"B_wins\",data=sctwin, scatter_kws={\"color\": \"black\"}, line_kws={\"color\": \"red\"},fit_reg=True)\n",
    "plt.title('TotalWin ~ Submission', fontsize=20)\n",
    "plt.xlabel('Split', fontsize=14)\n",
    "plt.ylabel('TotalWin', fontsize=14)\n",
    "plt.show()"
   ]
  },
  {
   "cell_type": "code",
   "execution_count": 57,
   "metadata": {},
   "outputs": [
    {
     "data": {
      "text/plain": [
       "<matplotlib.axes._subplots.AxesSubplot at 0x21e054f8208>"
      ]
     },
     "execution_count": 57,
     "metadata": {},
     "output_type": "execute_result"
    },
    {
     "data": {
      "text/plain": [
       "Text(0.5, 1.0, 'TotalWin ~ DoctorStop')"
      ]
     },
     "execution_count": 57,
     "metadata": {},
     "output_type": "execute_result"
    },
    {
     "data": {
      "text/plain": [
       "Text(0.5, 0, 'Split')"
      ]
     },
     "execution_count": 57,
     "metadata": {},
     "output_type": "execute_result"
    },
    {
     "data": {
      "text/plain": [
       "Text(0, 0.5, 'TotalWin')"
      ]
     },
     "execution_count": 57,
     "metadata": {},
     "output_type": "execute_result"
    },
    {
     "data": {
      "image/png": "[encoded data removed]",
      "text/plain": [
       "<Figure size 432x288 with 1 Axes>"
      ]
     },
     "metadata": {
      "needs_background": "light"
     },
     "output_type": "display_data"
    }
   ],
   "source": [
    "sns.regplot(x=\"DoctorStop\",  y=\"B_wins\",data=sctwin, scatter_kws={\"color\": \"black\"}, line_kws={\"color\": \"red\"},fit_reg=True)\n",
    "plt.title('TotalWin ~ DoctorStop', fontsize=20)\n",
    "plt.xlabel('Split', fontsize=14)\n",
    "plt.ylabel('TotalWin', fontsize=14)\n",
    "plt.show()"
   ]
  },
  {
   "cell_type": "code",
   "execution_count": 58,
   "metadata": {},
   "outputs": [
    {
     "data": {
      "text/html": [
       "<div>\n",
       "<style scoped>\n",
       "    .dataframe tbody tr th:only-of-type {\n",
       "        vertical-align: middle;\n",
       "    }\n",
       "\n",
       "    .dataframe tbody tr th {\n",
       "        vertical-align: top;\n",
       "    }\n",
       "\n",
       "    .dataframe thead th {\n",
       "        text-align: right;\n",
       "    }\n",
       "</style>\n",
       "<table border=\"1\" class=\"dataframe\">\n",
       "  <thead>\n",
       "    <tr style=\"text-align: right;\">\n",
       "      <th></th>\n",
       "      <th>Majority</th>\n",
       "      <th>Split</th>\n",
       "      <th>Unanimous</th>\n",
       "      <th>KO/TKO</th>\n",
       "      <th>Submission</th>\n",
       "      <th>DoctorStop</th>\n",
       "      <th>B_wins</th>\n",
       "    </tr>\n",
       "  </thead>\n",
       "  <tbody>\n",
       "    <tr>\n",
       "      <td>Majority</td>\n",
       "      <td>1.000000</td>\n",
       "      <td>0.049287</td>\n",
       "      <td>0.014331</td>\n",
       "      <td>0.163627</td>\n",
       "      <td>0.001327</td>\n",
       "      <td>0.036852</td>\n",
       "      <td>0.150856</td>\n",
       "    </tr>\n",
       "    <tr>\n",
       "      <td>Split</td>\n",
       "      <td>0.049287</td>\n",
       "      <td>1.000000</td>\n",
       "      <td>0.307400</td>\n",
       "      <td>0.126125</td>\n",
       "      <td>0.024449</td>\n",
       "      <td>0.028883</td>\n",
       "      <td>0.385890</td>\n",
       "    </tr>\n",
       "    <tr>\n",
       "      <td>Unanimous</td>\n",
       "      <td>0.014331</td>\n",
       "      <td>0.307400</td>\n",
       "      <td>1.000000</td>\n",
       "      <td>0.334489</td>\n",
       "      <td>0.218164</td>\n",
       "      <td>0.105946</td>\n",
       "      <td>0.750435</td>\n",
       "    </tr>\n",
       "    <tr>\n",
       "      <td>KO/TKO</td>\n",
       "      <td>0.163627</td>\n",
       "      <td>0.126125</td>\n",
       "      <td>0.334489</td>\n",
       "      <td>1.000000</td>\n",
       "      <td>0.116154</td>\n",
       "      <td>0.221089</td>\n",
       "      <td>0.742047</td>\n",
       "    </tr>\n",
       "    <tr>\n",
       "      <td>Submission</td>\n",
       "      <td>0.001327</td>\n",
       "      <td>0.024449</td>\n",
       "      <td>0.218164</td>\n",
       "      <td>0.116154</td>\n",
       "      <td>1.000000</td>\n",
       "      <td>0.073697</td>\n",
       "      <td>0.537324</td>\n",
       "    </tr>\n",
       "    <tr>\n",
       "      <td>DoctorStop</td>\n",
       "      <td>0.036852</td>\n",
       "      <td>0.028883</td>\n",
       "      <td>0.105946</td>\n",
       "      <td>0.221089</td>\n",
       "      <td>0.073697</td>\n",
       "      <td>1.000000</td>\n",
       "      <td>0.269935</td>\n",
       "    </tr>\n",
       "    <tr>\n",
       "      <td>B_wins</td>\n",
       "      <td>0.150856</td>\n",
       "      <td>0.385890</td>\n",
       "      <td>0.750435</td>\n",
       "      <td>0.742047</td>\n",
       "      <td>0.537324</td>\n",
       "      <td>0.269935</td>\n",
       "      <td>1.000000</td>\n",
       "    </tr>\n",
       "  </tbody>\n",
       "</table>\n",
       "</div>"
      ],
      "text/plain": [
       "            Majority     Split  Unanimous    KO/TKO  Submission  DoctorStop  \\\n",
       "Majority    1.000000  0.049287   0.014331  0.163627    0.001327    0.036852   \n",
       "Split       0.049287  1.000000   0.307400  0.126125    0.024449    0.028883   \n",
       "Unanimous   0.014331  0.307400   1.000000  0.334489    0.218164    0.105946   \n",
       "KO/TKO      0.163627  0.126125   0.334489  1.000000    0.116154    0.221089   \n",
       "Submission  0.001327  0.024449   0.218164  0.116154    1.000000    0.073697   \n",
       "DoctorStop  0.036852  0.028883   0.105946  0.221089    0.073697    1.000000   \n",
       "B_wins      0.150856  0.385890   0.750435  0.742047    0.537324    0.269935   \n",
       "\n",
       "              B_wins  \n",
       "Majority    0.150856  \n",
       "Split       0.385890  \n",
       "Unanimous   0.750435  \n",
       "KO/TKO      0.742047  \n",
       "Submission  0.537324  \n",
       "DoctorStop  0.269935  \n",
       "B_wins      1.000000  "
      ]
     },
     "execution_count": 58,
     "metadata": {},
     "output_type": "execute_result"
    }
   ],
   "source": [
    "corrmat = sctwin.corr()\n",
    "corrmat"
   ]
  },
  {
   "cell_type": "markdown",
   "metadata": {},
   "source": [
    "### HeatMap of Correlation"
   ]
  },
  {
   "cell_type": "code",
   "execution_count": 59,
   "metadata": {},
   "outputs": [
    {
     "data": {
      "text/plain": [
       "<Figure size 1440x1440 with 0 Axes>"
      ]
     },
     "execution_count": 59,
     "metadata": {},
     "output_type": "execute_result"
    },
    {
     "data": {
      "image/png": "[encoded data removed]",
      "text/plain": [
       "<Figure size 1440x1440 with 2 Axes>"
      ]
     },
     "metadata": {
      "needs_background": "light"
     },
     "output_type": "display_data"
    }
   ],
   "source": [
    "top_corr_features = corrmat.index\n",
    "plt.figure(figsize=(20,20))\n",
    "g=sns.heatmap(sctwin[top_corr_features].corr(),annot=True)"
   ]
  },
  {
   "cell_type": "markdown",
   "metadata": {},
   "source": [
    "### Principal Component Analysis"
   ]
  },
  {
   "cell_type": "code",
   "execution_count": 60,
   "metadata": {},
   "outputs": [
    {
     "data": {
      "text/plain": [
       "PCA(copy=True, iterated_power='auto', n_components=3, random_state=None,\n",
       "    svd_solver='auto', tol=0.0, whiten=False)"
      ]
     },
     "execution_count": 60,
     "metadata": {},
     "output_type": "execute_result"
    }
   ],
   "source": [
    "from sklearn.decomposition import PCA\n",
    "pca=PCA(n_components=3)\n",
    "pca.fit(win)"
   ]
  },
  {
   "cell_type": "code",
   "execution_count": 61,
   "metadata": {},
   "outputs": [
    {
     "name": "stdout",
     "output_type": "stream",
     "text": [
      "[[ 0.0106941  -0.01344795  0.00404312]\n",
      " [ 0.07893073  0.07104741 -0.10600876]\n",
      " [ 0.56092654  0.61670463 -0.53256068]\n",
      " [ 0.79571833 -0.58119119  0.1662985 ]\n",
      " [ 0.21188622  0.52586653  0.8230119 ]\n",
      " [ 0.03087986 -0.0113145   0.01100658]]\n"
     ]
    }
   ],
   "source": [
    "eigens_v=pca.components_.transpose()\n",
    "print(eigens_v)"
   ]
  },
  {
   "cell_type": "code",
   "execution_count": 62,
   "metadata": {},
   "outputs": [
    {
     "data": {
      "text/plain": [
       "array([0.50387497, 0.24922148, 0.19069082])"
      ]
     },
     "execution_count": 62,
     "metadata": {},
     "output_type": "execute_result"
    },
    {
     "data": {
      "text/plain": [
       "array([4.05673368, 2.00650009, 1.53526555])"
      ]
     },
     "execution_count": 62,
     "metadata": {},
     "output_type": "execute_result"
    }
   ],
   "source": [
    "pca.explained_variance_ratio_\n",
    "pca.explained_variance_"
   ]
  },
  {
   "cell_type": "code",
   "execution_count": 63,
   "metadata": {},
   "outputs": [
    {
     "data": {
      "text/plain": [
       "array([-0.12777986, -1.2603656 , 11.14495291, ..., -1.21431513,\n",
       "       -1.44910692,  0.37712152])"
      ]
     },
     "execution_count": 63,
     "metadata": {},
     "output_type": "execute_result"
    }
   ],
   "source": [
    "BPCscore=pca.transform(Bwin)\n",
    "BPCscore[:,0]"
   ]
  },
  {
   "cell_type": "code",
   "execution_count": 64,
   "metadata": {},
   "outputs": [
    {
     "data": {
      "text/plain": [
       "array([ 1.98297081, -0.38547722,  3.44102905, ..., -0.38771694,\n",
       "       -2.01003346, -1.00242892])"
      ]
     },
     "execution_count": 64,
     "metadata": {},
     "output_type": "execute_result"
    }
   ],
   "source": [
    "RPCscore=pca.transform(Rwin)\n",
    "RPCscore[:,0]"
   ]
  },
  {
   "cell_type": "markdown",
   "metadata": {},
   "source": [
    "#### pca를 통한 결과를 data_X에 추가한다."
   ]
  },
  {
   "cell_type": "code",
   "execution_count": 65,
   "metadata": {},
   "outputs": [
    {
     "data": {
      "text/html": [
       "<div>\n",
       "<style scoped>\n",
       "    .dataframe tbody tr th:only-of-type {\n",
       "        vertical-align: middle;\n",
       "    }\n",
       "\n",
       "    .dataframe tbody tr th {\n",
       "        vertical-align: top;\n",
       "    }\n",
       "\n",
       "    .dataframe thead th {\n",
       "        text-align: right;\n",
       "    }\n",
       "</style>\n",
       "<table border=\"1\" class=\"dataframe\">\n",
       "  <thead>\n",
       "    <tr style=\"text-align: right;\">\n",
       "      <th></th>\n",
       "      <th>Majority</th>\n",
       "      <th>Split</th>\n",
       "      <th>Unanimous</th>\n",
       "      <th>KO/TKO</th>\n",
       "      <th>Submission</th>\n",
       "      <th>DoctorStop</th>\n",
       "    </tr>\n",
       "  </thead>\n",
       "  <tbody>\n",
       "    <tr>\n",
       "      <td>0</td>\n",
       "      <td>0.0</td>\n",
       "      <td>1.0</td>\n",
       "      <td>0.0</td>\n",
       "      <td>2.0</td>\n",
       "      <td>1.0</td>\n",
       "      <td>0.0</td>\n",
       "    </tr>\n",
       "    <tr>\n",
       "      <td>1</td>\n",
       "      <td>0.0</td>\n",
       "      <td>2.0</td>\n",
       "      <td>1.0</td>\n",
       "      <td>0.0</td>\n",
       "      <td>0.0</td>\n",
       "      <td>1.0</td>\n",
       "    </tr>\n",
       "    <tr>\n",
       "      <td>2</td>\n",
       "      <td>0.0</td>\n",
       "      <td>0.0</td>\n",
       "      <td>7.0</td>\n",
       "      <td>10.0</td>\n",
       "      <td>6.0</td>\n",
       "      <td>0.0</td>\n",
       "    </tr>\n",
       "    <tr>\n",
       "      <td>3</td>\n",
       "      <td>0.0</td>\n",
       "      <td>0.0</td>\n",
       "      <td>2.0</td>\n",
       "      <td>2.0</td>\n",
       "      <td>0.0</td>\n",
       "      <td>0.0</td>\n",
       "    </tr>\n",
       "    <tr>\n",
       "      <td>4</td>\n",
       "      <td>0.0</td>\n",
       "      <td>0.0</td>\n",
       "      <td>1.0</td>\n",
       "      <td>0.0</td>\n",
       "      <td>0.0</td>\n",
       "      <td>0.0</td>\n",
       "    </tr>\n",
       "  </tbody>\n",
       "</table>\n",
       "</div>"
      ],
      "text/plain": [
       "   Majority  Split  Unanimous  KO/TKO  Submission  DoctorStop\n",
       "0       0.0    1.0        0.0     2.0         1.0         0.0\n",
       "1       0.0    2.0        1.0     0.0         0.0         1.0\n",
       "2       0.0    0.0        7.0    10.0         6.0         0.0\n",
       "3       0.0    0.0        2.0     2.0         0.0         0.0\n",
       "4       0.0    0.0        1.0     0.0         0.0         0.0"
      ]
     },
     "execution_count": 65,
     "metadata": {},
     "output_type": "execute_result"
    }
   ],
   "source": [
    "win.rename(columns = {win.columns[0] : \"Majority\",\n",
    "                      win.columns[1] : \"Split\",\n",
    "                      win.columns[2] : \"Unanimous\",\n",
    "                      win.columns[3] : \"KO/TKO\",\n",
    "                      win.columns[4] : \"Submission\",\n",
    "                      win.columns[5] : \"DoctorStop\"}, inplace=True)\n",
    "win.head()"
   ]
  },
  {
   "cell_type": "code",
   "execution_count": 66,
   "metadata": {},
   "outputs": [],
   "source": [
    "data_X[\"RPC1\"] = RPCscore[:,0]\n",
    "data_X[\"RPC2\"] = RPCscore[:,1]\n",
    "data_X[\"RPC3\"] = RPCscore[:,2]\n",
    "data_X[\"BPC1\"] = BPCscore[:,0]\n",
    "data_X[\"BPC2\"] = BPCscore[:,1]\n",
    "data_X[\"BPC3\"] = BPCscore[:,2]"
   ]
  },
  {
   "cell_type": "markdown",
   "metadata": {},
   "source": [
    "#### win_by 컬럼 삭제한다."
   ]
  },
  {
   "cell_type": "code",
   "execution_count": 67,
   "metadata": {},
   "outputs": [],
   "source": [
    "del data_X[\"B_win_by_Decision_Majority\"]\n",
    "del data_X[\"B_win_by_Decision_Unanimous\"]\n",
    "del data_X[\"B_win_by_Decision_Split\"]\n",
    "del data_X[\"B_win_by_KO/TKO\"]\n",
    "del data_X[\"B_win_by_Submission\"]\n",
    "del data_X[\"B_win_by_TKO_Doctor_Stoppage\"]\n",
    "del data_X[\"R_win_by_Decision_Majority\"]\n",
    "del data_X[\"R_win_by_Decision_Unanimous\"]\n",
    "del data_X[\"R_win_by_Decision_Split\"]\n",
    "del data_X[\"R_win_by_KO/TKO\"]\n",
    "del data_X[\"R_win_by_Submission\"]\n",
    "del data_X[\"R_win_by_TKO_Doctor_Stoppage\"]"
   ]
  },
  {
   "cell_type": "markdown",
   "metadata": {},
   "source": [
    "#### Winner가 draw(100)인 데이터 포인트 제거"
   ]
  },
  {
   "cell_type": "code",
   "execution_count": 68,
   "metadata": {},
   "outputs": [
    {
     "data": {
      "text/html": [
       "<div>\n",
       "<style scoped>\n",
       "    .dataframe tbody tr th:only-of-type {\n",
       "        vertical-align: middle;\n",
       "    }\n",
       "\n",
       "    .dataframe tbody tr th {\n",
       "        vertical-align: top;\n",
       "    }\n",
       "\n",
       "    .dataframe thead th {\n",
       "        text-align: right;\n",
       "    }\n",
       "</style>\n",
       "<table border=\"1\" class=\"dataframe\">\n",
       "  <thead>\n",
       "    <tr style=\"text-align: right;\">\n",
       "      <th></th>\n",
       "      <th>B_avg_BODY_att</th>\n",
       "      <th>B_avg_CLINCH_att</th>\n",
       "      <th>B_avg_DISTANCE_att</th>\n",
       "      <th>B_avg_GROUND_att</th>\n",
       "      <th>B_avg_HEAD_att</th>\n",
       "      <th>B_avg_KD</th>\n",
       "      <th>B_avg_LEG_att</th>\n",
       "      <th>B_avg_SIG_STR_att</th>\n",
       "      <th>B_avg_SUB_ATT</th>\n",
       "      <th>B_avg_TD_att</th>\n",
       "      <th>...</th>\n",
       "      <th>R_Stance_Southpaw</th>\n",
       "      <th>R_Stance_Switch</th>\n",
       "      <th>B_cluster</th>\n",
       "      <th>R_cluster</th>\n",
       "      <th>RPC1</th>\n",
       "      <th>RPC2</th>\n",
       "      <th>RPC3</th>\n",
       "      <th>BPC1</th>\n",
       "      <th>BPC2</th>\n",
       "      <th>BPC3</th>\n",
       "    </tr>\n",
       "  </thead>\n",
       "  <tbody>\n",
       "    <tr>\n",
       "      <td>0</td>\n",
       "      <td>9.200000</td>\n",
       "      <td>0.200000</td>\n",
       "      <td>62.600000</td>\n",
       "      <td>2.600000</td>\n",
       "      <td>48.600000</td>\n",
       "      <td>0.800000</td>\n",
       "      <td>7.6</td>\n",
       "      <td>65.40</td>\n",
       "      <td>0.400000</td>\n",
       "      <td>0.80000</td>\n",
       "      <td>...</td>\n",
       "      <td>0</td>\n",
       "      <td>0</td>\n",
       "      <td>2</td>\n",
       "      <td>0</td>\n",
       "      <td>1.982971</td>\n",
       "      <td>0.991611</td>\n",
       "      <td>-2.211891</td>\n",
       "      <td>-0.127780</td>\n",
       "      <td>-1.020388</td>\n",
       "      <td>0.847372</td>\n",
       "    </tr>\n",
       "    <tr>\n",
       "      <td>1</td>\n",
       "      <td>14.600000</td>\n",
       "      <td>11.800000</td>\n",
       "      <td>124.700000</td>\n",
       "      <td>2.400000</td>\n",
       "      <td>112.000000</td>\n",
       "      <td>0.000000</td>\n",
       "      <td>12.3</td>\n",
       "      <td>138.90</td>\n",
       "      <td>0.700000</td>\n",
       "      <td>1.00000</td>\n",
       "      <td>...</td>\n",
       "      <td>1</td>\n",
       "      <td>0</td>\n",
       "      <td>1</td>\n",
       "      <td>0</td>\n",
       "      <td>-0.385477</td>\n",
       "      <td>1.901270</td>\n",
       "      <td>0.272666</td>\n",
       "      <td>-1.260366</td>\n",
       "      <td>0.292565</td>\n",
       "      <td>-0.935799</td>\n",
       "    </tr>\n",
       "    <tr>\n",
       "      <td>2</td>\n",
       "      <td>15.354839</td>\n",
       "      <td>6.741935</td>\n",
       "      <td>84.741935</td>\n",
       "      <td>5.516129</td>\n",
       "      <td>67.645161</td>\n",
       "      <td>0.645161</td>\n",
       "      <td>14.0</td>\n",
       "      <td>97.00</td>\n",
       "      <td>0.354839</td>\n",
       "      <td>2.16129</td>\n",
       "      <td>...</td>\n",
       "      <td>0</td>\n",
       "      <td>0</td>\n",
       "      <td>2</td>\n",
       "      <td>0</td>\n",
       "      <td>3.441029</td>\n",
       "      <td>2.866553</td>\n",
       "      <td>3.542055</td>\n",
       "      <td>11.144953</td>\n",
       "      <td>1.205300</td>\n",
       "      <td>2.670904</td>\n",
       "    </tr>\n",
       "    <tr>\n",
       "      <td>3</td>\n",
       "      <td>17.000000</td>\n",
       "      <td>13.750000</td>\n",
       "      <td>109.500000</td>\n",
       "      <td>13.000000</td>\n",
       "      <td>116.250000</td>\n",
       "      <td>0.500000</td>\n",
       "      <td>3.0</td>\n",
       "      <td>136.25</td>\n",
       "      <td>0.250000</td>\n",
       "      <td>2.50000</td>\n",
       "      <td>...</td>\n",
       "      <td>0</td>\n",
       "      <td>0</td>\n",
       "      <td>1</td>\n",
       "      <td>0</td>\n",
       "      <td>1.108322</td>\n",
       "      <td>1.501755</td>\n",
       "      <td>-2.272181</td>\n",
       "      <td>0.703256</td>\n",
       "      <td>-0.383893</td>\n",
       "      <td>-0.934752</td>\n",
       "    </tr>\n",
       "    <tr>\n",
       "      <td>4</td>\n",
       "      <td>17.000000</td>\n",
       "      <td>2.500000</td>\n",
       "      <td>201.000000</td>\n",
       "      <td>0.000000</td>\n",
       "      <td>184.500000</td>\n",
       "      <td>0.000000</td>\n",
       "      <td>2.0</td>\n",
       "      <td>203.50</td>\n",
       "      <td>0.000000</td>\n",
       "      <td>0.00000</td>\n",
       "      <td>...</td>\n",
       "      <td>1</td>\n",
       "      <td>0</td>\n",
       "      <td>1</td>\n",
       "      <td>1</td>\n",
       "      <td>0.142330</td>\n",
       "      <td>-1.000598</td>\n",
       "      <td>-0.402191</td>\n",
       "      <td>-1.449107</td>\n",
       "      <td>0.161785</td>\n",
       "      <td>-0.734788</td>\n",
       "    </tr>\n",
       "  </tbody>\n",
       "</table>\n",
       "<p>5 rows × 67 columns</p>\n",
       "</div>"
      ],
      "text/plain": [
       "   B_avg_BODY_att  B_avg_CLINCH_att  B_avg_DISTANCE_att  B_avg_GROUND_att  \\\n",
       "0        9.200000          0.200000           62.600000          2.600000   \n",
       "1       14.600000         11.800000          124.700000          2.400000   \n",
       "2       15.354839          6.741935           84.741935          5.516129   \n",
       "3       17.000000         13.750000          109.500000         13.000000   \n",
       "4       17.000000          2.500000          201.000000          0.000000   \n",
       "\n",
       "   B_avg_HEAD_att  B_avg_KD  B_avg_LEG_att  B_avg_SIG_STR_att  B_avg_SUB_ATT  \\\n",
       "0       48.600000  0.800000            7.6              65.40       0.400000   \n",
       "1      112.000000  0.000000           12.3             138.90       0.700000   \n",
       "2       67.645161  0.645161           14.0              97.00       0.354839   \n",
       "3      116.250000  0.500000            3.0             136.25       0.250000   \n",
       "4      184.500000  0.000000            2.0             203.50       0.000000   \n",
       "\n",
       "   B_avg_TD_att  ...  R_Stance_Southpaw  R_Stance_Switch  B_cluster  \\\n",
       "0       0.80000  ...                  0                0          2   \n",
       "1       1.00000  ...                  1                0          1   \n",
       "2       2.16129  ...                  0                0          2   \n",
       "3       2.50000  ...                  0                0          1   \n",
       "4       0.00000  ...                  1                0          1   \n",
       "\n",
       "   R_cluster      RPC1      RPC2      RPC3       BPC1      BPC2      BPC3  \n",
       "0          0  1.982971  0.991611 -2.211891  -0.127780 -1.020388  0.847372  \n",
       "1          0 -0.385477  1.901270  0.272666  -1.260366  0.292565 -0.935799  \n",
       "2          0  3.441029  2.866553  3.542055  11.144953  1.205300  2.670904  \n",
       "3          0  1.108322  1.501755 -2.272181   0.703256 -0.383893 -0.934752  \n",
       "4          1  0.142330 -1.000598 -0.402191  -1.449107  0.161785 -0.734788  \n",
       "\n",
       "[5 rows x 67 columns]"
      ]
     },
     "execution_count": 68,
     "metadata": {},
     "output_type": "execute_result"
    }
   ],
   "source": [
    "data_X = data_X[data_X[\"Winner\"] != 100]\n",
    "data_X.head()"
   ]
  },
  {
   "cell_type": "markdown",
   "metadata": {},
   "source": [
    "### Feature Engineering (3) -  categorization using finished time columns"
   ]
  },
  {
   "cell_type": "markdown",
   "metadata": {},
   "source": [
    "#### win_by column들이 승리횟수와 강한 상관관계를 보이기에 3가지 종류로 분류해본다.\n",
    "#### 판정승보다는 일찍끝내는 사람이 승률이 더 높을 것이라는 판단에서나온  아이디어\n",
    "#### 실제로 예측성능에 많은 기여"
   ]
  },
  {
   "cell_type": "markdown",
   "metadata": {},
   "source": [
    "#### E(arly) (TKO/KO, Submission, DoctorStop) - 경기라운드를 모두 채우지않는 즉, 일찍 끝내는 사람 \n",
    "#### F(ull)      (Majority, Split , Unanimous) - 경기라운드를 모두 채우는 즉, 3(5)라운드가 끝난 뒤 판정승\n",
    "#### N(othing)  두 경우의 비율이 같거나 혹은 첫경기인 사람"
   ]
  },
  {
   "cell_type": "code",
   "execution_count": 69,
   "metadata": {},
   "outputs": [],
   "source": [
    "Bearly = data[\"B_win_by_KO/TKO\"] + data[\"B_win_by_Submission\"] + data[\"B_win_by_TKO_Doctor_Stoppage\"]\n",
    "Bfull = data[\"B_win_by_Decision_Majority\"] + data[\"B_win_by_Decision_Split\"]+data[\"B_win_by_Decision_Unanimous\"]\n",
    "data_X[\"Btime\"] = Bearly / Bfull"
   ]
  },
  {
   "cell_type": "markdown",
   "metadata": {},
   "source": [
    "#### 분모가 0인경우 Nan 발생 -> 0으로 대체"
   ]
  },
  {
   "cell_type": "code",
   "execution_count": 70,
   "metadata": {},
   "outputs": [],
   "source": [
    "data_X[np.isnan(data_X[\"Btime\"])]= 0"
   ]
  },
  {
   "cell_type": "code",
   "execution_count": 71,
   "metadata": {},
   "outputs": [],
   "source": [
    "data_X[\"BFinish\"] = np.where(data_X[\"Btime\"]>1 ,\"Early\",np.where(data_X[\"Btime\"]==0,\"Normal\",\"Full\"))\n",
    "OnlyE = Bfull == 0\n",
    "data_X.loc[OnlyE,\"BFinish\"] = \"Early\"\n",
    "OnlyF = Bearly == 0\n",
    "data_X.loc[OnlyF,\"BFinish\"] = \"Full\"\n",
    "ALL = data_X[\"B_wins\"] ==0\n",
    "data_X.loc[ALL,\"BFinish\"] = \"Normal\""
   ]
  },
  {
   "cell_type": "code",
   "execution_count": 72,
   "metadata": {},
   "outputs": [
    {
     "data": {
      "text/plain": [
       "0       167.64\n",
       "1       167.64\n",
       "2       185.42\n",
       "3       170.18\n",
       "4       180.34\n",
       "         ...  \n",
       "4887    182.88\n",
       "4901    175.26\n",
       "4923    180.34\n",
       "4967    187.96\n",
       "5008    182.88\n",
       "Name: B_Height_cms, Length: 3151, dtype: float64"
      ]
     },
     "execution_count": 72,
     "metadata": {},
     "output_type": "execute_result"
    }
   ],
   "source": [
    "data_X[data_X.columns[11]]"
   ]
  },
  {
   "cell_type": "code",
   "execution_count": 73,
   "metadata": {
    "scrolled": true
   },
   "outputs": [
    {
     "data": {
      "text/plain": [
       "<matplotlib.axes._subplots.AxesSubplot at 0x21e072b4208>"
      ]
     },
     "execution_count": 73,
     "metadata": {},
     "output_type": "execute_result"
    },
    {
     "data": {
      "image/png": "[encoded data removed]",
      "text/plain": [
       "<Figure size 432x288 with 1 Axes>"
      ]
     },
     "metadata": {
      "needs_background": "light"
     },
     "output_type": "display_data"
    }
   ],
   "source": [
    "sns.countplot(x=\"BFinish\",palette=\"Set3\",data=data_X)"
   ]
  },
  {
   "cell_type": "code",
   "execution_count": 74,
   "metadata": {},
   "outputs": [
    {
     "data": {
      "text/plain": [
       "Early     1470\n",
       "Full      1349\n",
       "Normal     332\n",
       "Name: BFinish, dtype: int64"
      ]
     },
     "execution_count": 74,
     "metadata": {},
     "output_type": "execute_result"
    }
   ],
   "source": [
    "data_X[\"BFinish\"].value_counts()"
   ]
  },
  {
   "cell_type": "code",
   "execution_count": 75,
   "metadata": {},
   "outputs": [],
   "source": [
    "data_X[\"BFinish\"] = data_X[\"BFinish\"].map({\"Normal\" : 0, \"Early\" :1,\"Full\":2})"
   ]
  },
  {
   "cell_type": "code",
   "execution_count": 76,
   "metadata": {},
   "outputs": [],
   "source": [
    "Rearly = data[\"R_win_by_KO/TKO\"] + data[\"R_win_by_Submission\"] + data[\"R_win_by_TKO_Doctor_Stoppage\"]\n",
    "Rfull = data[\"R_win_by_Decision_Majority\"] + data[\"R_win_by_Decision_Split\"]+data[\"R_win_by_Decision_Unanimous\"]\n",
    "data_X[\"Rtime\"] = Rearly / Rfull"
   ]
  },
  {
   "cell_type": "code",
   "execution_count": 77,
   "metadata": {},
   "outputs": [],
   "source": [
    "data_X[np.isnan(data_X[\"Rtime\"])] = 0"
   ]
  },
  {
   "cell_type": "code",
   "execution_count": 78,
   "metadata": {},
   "outputs": [],
   "source": [
    "data_X[\"RFinish\"] = np.where(data_X[\"Rtime\"]>1 ,\"Early\",np.where(data_X[\"Rtime\"]==0,\"Normal\",\"Full\"))\n",
    "OnlyE = Rfull == 0\n",
    "data_X.loc[OnlyE,\"RFinish\"] = \"Early\"\n",
    "OnlyF = Rearly == 0\n",
    "data_X.loc[OnlyF,\"RFinish\"] = \"Full\"\n",
    "ALL = data_X[\"R_wins\"] ==0\n",
    "data_X.loc[ALL,\"RFinish\"] = \"Normal\""
   ]
  },
  {
   "cell_type": "code",
   "execution_count": 79,
   "metadata": {},
   "outputs": [
    {
     "data": {
      "text/plain": [
       "<matplotlib.axes._subplots.AxesSubplot at 0x21e072aa848>"
      ]
     },
     "execution_count": 79,
     "metadata": {},
     "output_type": "execute_result"
    },
    {
     "data": {
      "image/png": "[encoded data removed]",
      "text/plain": [
       "<Figure size 432x288 with 1 Axes>"
      ]
     },
     "metadata": {
      "needs_background": "light"
     },
     "output_type": "display_data"
    }
   ],
   "source": [
    "sns.countplot(x=\"RFinish\",palette=\"Set3\",data=data_X)"
   ]
  },
  {
   "cell_type": "code",
   "execution_count": 80,
   "metadata": {},
   "outputs": [
    {
     "data": {
      "text/plain": [
       "Early     1475\n",
       "Full      1232\n",
       "Normal     444\n",
       "Name: RFinish, dtype: int64"
      ]
     },
     "execution_count": 80,
     "metadata": {},
     "output_type": "execute_result"
    }
   ],
   "source": [
    "data_X[\"RFinish\"].value_counts()"
   ]
  },
  {
   "cell_type": "markdown",
   "metadata": {},
   "source": [
    "#### 수치형으로 변환"
   ]
  },
  {
   "cell_type": "code",
   "execution_count": 81,
   "metadata": {},
   "outputs": [],
   "source": [
    "data_X[\"RFinish\"] = data_X[\"RFinish\"].map({\"Normal\" : 0, \"Early\" :1,\"Full\":2})"
   ]
  },
  {
   "cell_type": "code",
   "execution_count": 82,
   "metadata": {},
   "outputs": [],
   "source": [
    "del data_X[\"Btime\"]\n",
    "del data_X[\"Rtime\"]"
   ]
  },
  {
   "cell_type": "markdown",
   "metadata": {},
   "source": [
    "### StandardScaling"
   ]
  },
  {
   "cell_type": "code",
   "execution_count": 83,
   "metadata": {},
   "outputs": [],
   "source": [
    "from sklearn.preprocessing import StandardScaler\n",
    "scl = StandardScaler()"
   ]
  },
  {
   "cell_type": "code",
   "execution_count": 84,
   "metadata": {},
   "outputs": [
    {
     "data": {
      "text/plain": [
       "Index(['B_avg_BODY_att', 'B_avg_CLINCH_att', 'B_avg_DISTANCE_att',\n",
       "       'B_avg_GROUND_att', 'B_avg_HEAD_att', 'B_avg_KD', 'B_avg_LEG_att',\n",
       "       'B_avg_SIG_STR_att', 'B_avg_SUB_ATT', 'B_avg_TD_att',\n",
       "       'B_avg_TOTAL_STR_att', 'B_Height_cms', 'B_Reach_cms', 'B_Weight_lbs',\n",
       "       'R_avg_BODY_att', 'R_avg_CLINCH_att', 'R_avg_DISTANCE_att',\n",
       "       'R_avg_GROUND_att', 'R_avg_HEAD_att', 'R_avg_KD', 'R_avg_LEG_att',\n",
       "       'R_avg_SIG_STR_att', 'R_avg_SUB_ATT', 'R_avg_TD_att',\n",
       "       'R_avg_TOTAL_STR_att', 'R_Height_cms', 'R_Reach_cms', 'R_Weight_lbs',\n",
       "       'title_bout', 'B_current_lose_streak', 'B_current_win_streak', 'B_wins',\n",
       "       'R_current_lose_streak', 'R_current_win_streak', 'R_wins', 'B_age',\n",
       "       'R_age', 'Winner', 'weight_class_Bantamweight',\n",
       "       'weight_class_Catch Weight', 'weight_class_Featherweight',\n",
       "       'weight_class_Flyweight', 'weight_class_Heavyweight',\n",
       "       'weight_class_Light Heavyweight', 'weight_class_Lightweight',\n",
       "       'weight_class_Middleweight', 'weight_class_Welterweight',\n",
       "       'weight_class_Women's Bantamweight',\n",
       "       'weight_class_Women's Featherweight', 'weight_class_Women's Flyweight',\n",
       "       'weight_class_Women's Strawweight', 'B_Stance_Open Stance',\n",
       "       'B_Stance_Orthodox', 'B_Stance_Southpaw', 'B_Stance_Switch',\n",
       "       'R_Stance_Open Stance', 'R_Stance_Orthodox', 'R_Stance_Southpaw',\n",
       "       'R_Stance_Switch', 'B_cluster', 'R_cluster', 'RPC1', 'RPC2', 'RPC3',\n",
       "       'BPC1', 'BPC2', 'BPC3', 'BFinish', 'RFinish'],\n",
       "      dtype='object')"
      ]
     },
     "execution_count": 84,
     "metadata": {},
     "output_type": "execute_result"
    }
   ],
   "source": [
    "data_X.columns"
   ]
  },
  {
   "cell_type": "markdown",
   "metadata": {},
   "source": [
    "#### (더미변수, 나이, 신체조건, PCscore) 변수들을 제외한 나머지 스케일링"
   ]
  },
  {
   "cell_type": "markdown",
   "metadata": {},
   "source": [
    "### 연속형의 경우 변수마다 값의 차이가 크므로 스케일링이 필요"
   ]
  },
  {
   "cell_type": "code",
   "execution_count": 85,
   "metadata": {},
   "outputs": [],
   "source": [
    "data_X[data_X.columns[0:11]] = scl.fit_transform(data_X[data_X.columns[0:11]])\n",
    "data_X[data_X.columns[14:25]] = scl.fit_transform(data_X[data_X.columns[14:25]])\n",
    "data_X[data_X.columns[29:35]] = scl.fit_transform(data_X[data_X.columns[29:35]])"
   ]
  },
  {
   "cell_type": "markdown",
   "metadata": {},
   "source": [
    "### Split Train and Test set"
   ]
  },
  {
   "cell_type": "code",
   "execution_count": 86,
   "metadata": {},
   "outputs": [
    {
     "data": {
      "text/html": [
       "<div>\n",
       "<style scoped>\n",
       "    .dataframe tbody tr th:only-of-type {\n",
       "        vertical-align: middle;\n",
       "    }\n",
       "\n",
       "    .dataframe tbody tr th {\n",
       "        vertical-align: top;\n",
       "    }\n",
       "\n",
       "    .dataframe thead th {\n",
       "        text-align: right;\n",
       "    }\n",
       "</style>\n",
       "<table border=\"1\" class=\"dataframe\">\n",
       "  <thead>\n",
       "    <tr style=\"text-align: right;\">\n",
       "      <th></th>\n",
       "      <th>B_avg_BODY_att</th>\n",
       "      <th>B_avg_CLINCH_att</th>\n",
       "      <th>B_avg_DISTANCE_att</th>\n",
       "      <th>B_avg_GROUND_att</th>\n",
       "      <th>B_avg_HEAD_att</th>\n",
       "      <th>B_avg_KD</th>\n",
       "      <th>B_avg_LEG_att</th>\n",
       "      <th>B_avg_SIG_STR_att</th>\n",
       "      <th>B_avg_SUB_ATT</th>\n",
       "      <th>B_avg_TD_att</th>\n",
       "      <th>...</th>\n",
       "      <th>B_cluster</th>\n",
       "      <th>R_cluster</th>\n",
       "      <th>RPC1</th>\n",
       "      <th>RPC2</th>\n",
       "      <th>RPC3</th>\n",
       "      <th>BPC1</th>\n",
       "      <th>BPC2</th>\n",
       "      <th>BPC3</th>\n",
       "      <th>BFinish</th>\n",
       "      <th>RFinish</th>\n",
       "    </tr>\n",
       "  </thead>\n",
       "  <tbody>\n",
       "    <tr>\n",
       "      <td>0</td>\n",
       "      <td>0.179996</td>\n",
       "      <td>-0.998895</td>\n",
       "      <td>0.345242</td>\n",
       "      <td>-0.664329</td>\n",
       "      <td>-0.061231</td>\n",
       "      <td>1.800322</td>\n",
       "      <td>0.367526</td>\n",
       "      <td>0.024314</td>\n",
       "      <td>-0.129077</td>\n",
       "      <td>-0.670291</td>\n",
       "      <td>...</td>\n",
       "      <td>2</td>\n",
       "      <td>0</td>\n",
       "      <td>1.982971</td>\n",
       "      <td>0.991611</td>\n",
       "      <td>-2.211891</td>\n",
       "      <td>-0.127780</td>\n",
       "      <td>-1.020388</td>\n",
       "      <td>0.847372</td>\n",
       "      <td>1</td>\n",
       "      <td>2</td>\n",
       "    </tr>\n",
       "    <tr>\n",
       "      <td>1</td>\n",
       "      <td>0.942575</td>\n",
       "      <td>0.586500</td>\n",
       "      <td>1.866017</td>\n",
       "      <td>-0.687737</td>\n",
       "      <td>1.642192</td>\n",
       "      <td>-0.775025</td>\n",
       "      <td>1.183364</td>\n",
       "      <td>1.630075</td>\n",
       "      <td>0.337581</td>\n",
       "      <td>-0.594777</td>\n",
       "      <td>...</td>\n",
       "      <td>1</td>\n",
       "      <td>0</td>\n",
       "      <td>-0.385477</td>\n",
       "      <td>1.901270</td>\n",
       "      <td>0.272666</td>\n",
       "      <td>-1.260366</td>\n",
       "      <td>0.292565</td>\n",
       "      <td>-0.935799</td>\n",
       "      <td>2</td>\n",
       "      <td>2</td>\n",
       "    </tr>\n",
       "    <tr>\n",
       "      <td>2</td>\n",
       "      <td>1.049172</td>\n",
       "      <td>-0.104796</td>\n",
       "      <td>0.887479</td>\n",
       "      <td>-0.323028</td>\n",
       "      <td>0.450472</td>\n",
       "      <td>1.301868</td>\n",
       "      <td>1.478454</td>\n",
       "      <td>0.714682</td>\n",
       "      <td>-0.199327</td>\n",
       "      <td>-0.156311</td>\n",
       "      <td>...</td>\n",
       "      <td>2</td>\n",
       "      <td>0</td>\n",
       "      <td>3.441029</td>\n",
       "      <td>2.866553</td>\n",
       "      <td>3.542055</td>\n",
       "      <td>11.144953</td>\n",
       "      <td>1.205300</td>\n",
       "      <td>2.670904</td>\n",
       "      <td>1</td>\n",
       "      <td>1</td>\n",
       "    </tr>\n",
       "    <tr>\n",
       "      <td>3</td>\n",
       "      <td>1.281499</td>\n",
       "      <td>0.853010</td>\n",
       "      <td>1.493782</td>\n",
       "      <td>0.552879</td>\n",
       "      <td>1.756381</td>\n",
       "      <td>0.834567</td>\n",
       "      <td>-0.430953</td>\n",
       "      <td>1.572180</td>\n",
       "      <td>-0.362406</td>\n",
       "      <td>-0.028426</td>\n",
       "      <td>...</td>\n",
       "      <td>1</td>\n",
       "      <td>0</td>\n",
       "      <td>1.108322</td>\n",
       "      <td>1.501755</td>\n",
       "      <td>-2.272181</td>\n",
       "      <td>0.703256</td>\n",
       "      <td>-0.383893</td>\n",
       "      <td>-0.934752</td>\n",
       "      <td>2</td>\n",
       "      <td>2</td>\n",
       "    </tr>\n",
       "    <tr>\n",
       "      <td>4</td>\n",
       "      <td>1.281499</td>\n",
       "      <td>-0.684549</td>\n",
       "      <td>3.734537</td>\n",
       "      <td>-0.968632</td>\n",
       "      <td>3.590113</td>\n",
       "      <td>-0.775025</td>\n",
       "      <td>-0.604535</td>\n",
       "      <td>3.041397</td>\n",
       "      <td>-0.751288</td>\n",
       "      <td>-0.972345</td>\n",
       "      <td>...</td>\n",
       "      <td>1</td>\n",
       "      <td>1</td>\n",
       "      <td>0.142330</td>\n",
       "      <td>-1.000598</td>\n",
       "      <td>-0.402191</td>\n",
       "      <td>-1.449107</td>\n",
       "      <td>0.161785</td>\n",
       "      <td>-0.734788</td>\n",
       "      <td>2</td>\n",
       "      <td>1</td>\n",
       "    </tr>\n",
       "  </tbody>\n",
       "</table>\n",
       "<p>5 rows × 69 columns</p>\n",
       "</div>"
      ],
      "text/plain": [
       "   B_avg_BODY_att  B_avg_CLINCH_att  B_avg_DISTANCE_att  B_avg_GROUND_att  \\\n",
       "0        0.179996         -0.998895            0.345242         -0.664329   \n",
       "1        0.942575          0.586500            1.866017         -0.687737   \n",
       "2        1.049172         -0.104796            0.887479         -0.323028   \n",
       "3        1.281499          0.853010            1.493782          0.552879   \n",
       "4        1.281499         -0.684549            3.734537         -0.968632   \n",
       "\n",
       "   B_avg_HEAD_att  B_avg_KD  B_avg_LEG_att  B_avg_SIG_STR_att  B_avg_SUB_ATT  \\\n",
       "0       -0.061231  1.800322       0.367526           0.024314      -0.129077   \n",
       "1        1.642192 -0.775025       1.183364           1.630075       0.337581   \n",
       "2        0.450472  1.301868       1.478454           0.714682      -0.199327   \n",
       "3        1.756381  0.834567      -0.430953           1.572180      -0.362406   \n",
       "4        3.590113 -0.775025      -0.604535           3.041397      -0.751288   \n",
       "\n",
       "   B_avg_TD_att  ...  B_cluster  R_cluster      RPC1      RPC2      RPC3  \\\n",
       "0     -0.670291  ...          2          0  1.982971  0.991611 -2.211891   \n",
       "1     -0.594777  ...          1          0 -0.385477  1.901270  0.272666   \n",
       "2     -0.156311  ...          2          0  3.441029  2.866553  3.542055   \n",
       "3     -0.028426  ...          1          0  1.108322  1.501755 -2.272181   \n",
       "4     -0.972345  ...          1          1  0.142330 -1.000598 -0.402191   \n",
       "\n",
       "        BPC1      BPC2      BPC3  BFinish  RFinish  \n",
       "0  -0.127780 -1.020388  0.847372        1        2  \n",
       "1  -1.260366  0.292565 -0.935799        2        2  \n",
       "2  11.144953  1.205300  2.670904        1        1  \n",
       "3   0.703256 -0.383893 -0.934752        2        2  \n",
       "4  -1.449107  0.161785 -0.734788        2        1  \n",
       "\n",
       "[5 rows x 69 columns]"
      ]
     },
     "execution_count": 86,
     "metadata": {},
     "output_type": "execute_result"
    }
   ],
   "source": [
    "data_X.head()"
   ]
  },
  {
   "cell_type": "code",
   "execution_count": 87,
   "metadata": {},
   "outputs": [],
   "source": [
    "X = data_X[data_X.columns.difference([\"Winner\"])]\n",
    "y = data_X[\"Winner\"]"
   ]
  },
  {
   "cell_type": "code",
   "execution_count": 88,
   "metadata": {},
   "outputs": [],
   "source": [
    "from sklearn.model_selection import train_test_split\n",
    "X_train, X_test, y_train, y_test = train_test_split(X, y, test_size = 0.3, stratify = y, random_state = 97)"
   ]
  },
  {
   "cell_type": "code",
   "execution_count": 89,
   "metadata": {},
   "outputs": [
    {
     "data": {
      "text/plain": [
       "((2205, 68), (946, 68), (2205,), (946,))"
      ]
     },
     "execution_count": 89,
     "metadata": {},
     "output_type": "execute_result"
    }
   ],
   "source": [
    "X_train.shape , X_test.shape, y_train.shape, y_test.shape"
   ]
  },
  {
   "cell_type": "markdown",
   "metadata": {},
   "source": [
    "### RandomForest Model"
   ]
  },
  {
   "cell_type": "code",
   "execution_count": 90,
   "metadata": {},
   "outputs": [],
   "source": [
    "from sklearn.ensemble import RandomForestClassifier\n",
    "rf = RandomForestClassifier(n_estimators=500,random_state= 97)"
   ]
  },
  {
   "cell_type": "code",
   "execution_count": 91,
   "metadata": {},
   "outputs": [
    {
     "data": {
      "text/plain": [
       "RandomForestClassifier(bootstrap=True, class_weight=None, criterion='gini',\n",
       "                       max_depth=None, max_features='auto', max_leaf_nodes=None,\n",
       "                       min_impurity_decrease=0.0, min_impurity_split=None,\n",
       "                       min_samples_leaf=1, min_samples_split=2,\n",
       "                       min_weight_fraction_leaf=0.0, n_estimators=500,\n",
       "                       n_jobs=None, oob_score=False, random_state=97, verbose=0,\n",
       "                       warm_start=False)"
      ]
     },
     "execution_count": 91,
     "metadata": {},
     "output_type": "execute_result"
    }
   ],
   "source": [
    "rf.fit(X_train, y_train)"
   ]
  },
  {
   "cell_type": "markdown",
   "metadata": {},
   "source": [
    "## Using GridSearch"
   ]
  },
  {
   "cell_type": "code",
   "execution_count": null,
   "metadata": {},
   "outputs": [],
   "source": [
    "gs.best_params\n",
    "nestimatro 300 ,max_depth = 10\n",
    "gs.best_model"
   ]
  },
  {
   "cell_type": "code",
   "execution_count": 92,
   "metadata": {},
   "outputs": [],
   "source": [
    "y_train_hat = rf.predict(X_train)\n",
    "y_test_hat = rf.predict(X_test)"
   ]
  },
  {
   "cell_type": "code",
   "execution_count": 93,
   "metadata": {},
   "outputs": [
    {
     "name": "stdout",
     "output_type": "stream",
     "text": [
      "1.0 0.7230443974630021\n"
     ]
    }
   ],
   "source": [
    "from sklearn.metrics import confusion_matrix , accuracy_score\n",
    "training_accuracy = accuracy_score(y_train, y_train_hat)\n",
    "testing_accuracy = accuracy_score(y_test, y_test_hat)\n",
    "print(training_accuracy, testing_accuracy)"
   ]
  },
  {
   "cell_type": "markdown",
   "metadata": {},
   "source": [
    "#### win_by columns들을 pca로 차원축소"
   ]
  },
  {
   "cell_type": "markdown",
   "metadata": {},
   "source": [
    "# Logistic model"
   ]
  },
  {
   "cell_type": "code",
   "execution_count": 94,
   "metadata": {},
   "outputs": [],
   "source": [
    "from sklearn.linear_model import LogisticRegression"
   ]
  },
  {
   "cell_type": "code",
   "execution_count": 95,
   "metadata": {},
   "outputs": [],
   "source": [
    "clf = LogisticRegression(C=1)"
   ]
  },
  {
   "cell_type": "code",
   "execution_count": 96,
   "metadata": {},
   "outputs": [
    {
     "data": {
      "text/plain": [
       "LogisticRegression(C=1, class_weight=None, dual=False, fit_intercept=True,\n",
       "                   intercept_scaling=1, l1_ratio=None, max_iter=100,\n",
       "                   multi_class='warn', n_jobs=None, penalty='l2',\n",
       "                   random_state=None, solver='warn', tol=0.0001, verbose=0,\n",
       "                   warm_start=False)"
      ]
     },
     "execution_count": 96,
     "metadata": {},
     "output_type": "execute_result"
    }
   ],
   "source": [
    "clf.fit(X_train,y_train)"
   ]
  },
  {
   "cell_type": "code",
   "execution_count": 97,
   "metadata": {},
   "outputs": [],
   "source": [
    "y_train_hat = clf.predict(X_train)\n",
    "y_test_hat = clf.predict(X_test)"
   ]
  },
  {
   "cell_type": "code",
   "execution_count": 98,
   "metadata": {},
   "outputs": [],
   "source": [
    "training_accuracy = accuracy_score(y_train, y_train_hat)\n",
    "testing_accuracy = accuracy_score(y_test, y_test_hat)"
   ]
  },
  {
   "cell_type": "code",
   "execution_count": 99,
   "metadata": {},
   "outputs": [
    {
     "name": "stdout",
     "output_type": "stream",
     "text": [
      "[[230 194]\n",
      " [ 67 455]]\n",
      "0.727437641723356 0.7241014799154334\n"
     ]
    }
   ],
   "source": [
    "from sklearn.metrics import confusion_matrix\n",
    "confusion_matrix = confusion_matrix(y_test, y_test_hat)\n",
    "print(confusion_matrix)\n",
    "print(training_accuracy, testing_accuracy)"
   ]
  },
  {
   "cell_type": "markdown",
   "metadata": {},
   "source": [
    "# Adaboost"
   ]
  },
  {
   "cell_type": "code",
   "execution_count": 100,
   "metadata": {},
   "outputs": [],
   "source": [
    "from sklearn.ensemble import AdaBoostClassifier\n",
    "clf = AdaBoostClassifier(n_estimators=500, random_state=97)"
   ]
  },
  {
   "cell_type": "code",
   "execution_count": 101,
   "metadata": {},
   "outputs": [
    {
     "data": {
      "text/plain": [
       "AdaBoostClassifier(algorithm='SAMME.R', base_estimator=None, learning_rate=1.0,\n",
       "                   n_estimators=500, random_state=97)"
      ]
     },
     "execution_count": 101,
     "metadata": {},
     "output_type": "execute_result"
    }
   ],
   "source": [
    "clf.fit(X_train,y_train)"
   ]
  },
  {
   "cell_type": "code",
   "execution_count": 102,
   "metadata": {},
   "outputs": [],
   "source": [
    "y_train_hat_clf = clf.predict(X_train)\n",
    "y_test_hat_clf = clf.predict(X_test)"
   ]
  },
  {
   "cell_type": "code",
   "execution_count": 103,
   "metadata": {},
   "outputs": [
    {
     "name": "stdout",
     "output_type": "stream",
     "text": [
      "0.8662131519274376 0.6627906976744186\n"
     ]
    }
   ],
   "source": [
    "training_accuracy_clf = accuracy_score(y_train,y_train_hat_clf)\n",
    "testing_accuracy_clf = accuracy_score(y_test,y_test_hat_clf)\n",
    "print(training_accuracy_clf, testing_accuracy_clf)"
   ]
  }
 ],
 "metadata": {
  "kernelspec": {
   "display_name": "Python 3",
   "language": "python",
   "name": "python3"
  },
  "language_info": {
   "codemirror_mode": {
    "name": "ipython",
    "version": 3
   },
   "file_extension": ".py",
   "mimetype": "text/x-python",
   "name": "python",
   "nbconvert_exporter": "python",
   "pygments_lexer": "ipython3",
   "version": "3.7.4"
  }
 },
 "nbformat": 4,
 "nbformat_minor": 2
}
